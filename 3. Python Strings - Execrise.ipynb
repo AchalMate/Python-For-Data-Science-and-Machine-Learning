{
 "cells": [
  {
   "cell_type": "markdown",
   "metadata": {},
   "source": [
    "# Strings - Execrise"
   ]
  },
  {
   "cell_type": "code",
   "execution_count": 1,
   "metadata": {},
   "outputs": [],
   "source": [
    "text = \"\"\"The University of Hawaii began using radio to send digital information as early as 1971,using ALOHAnet. \n",
    "Friedhelm Hillebrand conceptualised SMS in 1984 while working for Deutsche Telekom. Sitting at a typewriter at home, \n",
    "Hillebrand typed out random sentences and counted every letter, number, punctuation, and space. \n",
    "Almost every time, the messages contained fewer than 160 characters, thus giving the basis for the \n",
    "limit one could type via text messaging. With Bernard Ghillebaert of France Télécom, he developed \n",
    "a proposal for the GSM (Groupe Spécial Mobile) meeting in February 1985 in Oslo. \n",
    "The first technical solution evolved in a GSM subgroup under the leadership of Finn Trosby. \n",
    "It was further developed under the leadership of Kevin Holley and Ian Harris (see Short Message Service). \n",
    "SMS forms an integral part of SS7 (Signalling System No. 7). Under SS7, it is a \"state\" with a 160 character data, \n",
    "coded in the ITU-T \"T.56\" text format, that has a \"sequence lead in\" to determine different language codes, \n",
    "and may have special character codes that permits, for example, sending simple graphs as text. \n",
    "This was part of ISDN (Integrated Services Digital Network) and since GSM is based on this, \n",
    "made its way to the mobile phone. Messages could be sent and received on ISDN phones, \n",
    "and these can send SMS to any GSM phone. The possibility of doing something is one thing, \n",
    "implementing it another, but systems existed from 1988 that sent SMS messages to mobile phones (compare ND-NOTIS).\"\"\""
   ]
  },
  {
   "cell_type": "markdown",
   "metadata": {},
   "source": [
    "> How many characters in text"
   ]
  },
  {
   "cell_type": "code",
   "execution_count": 2,
   "metadata": {},
   "outputs": [],
   "source": [
    "# CODE HERE"
   ]
  },
  {
   "cell_type": "code",
   "execution_count": 3,
   "metadata": {},
   "outputs": [
    {
     "data": {
      "text/plain": [
       "1507"
      ]
     },
     "execution_count": 3,
     "metadata": {},
     "output_type": "execute_result"
    }
   ],
   "source": [
    "len(text)"
   ]
  },
  {
   "cell_type": "markdown",
   "metadata": {},
   "source": [
    "> How many words are there in the \"text\""
   ]
  },
  {
   "cell_type": "code",
   "execution_count": 4,
   "metadata": {},
   "outputs": [],
   "source": [
    "# CODE HERE"
   ]
  },
  {
   "cell_type": "code",
   "execution_count": 5,
   "metadata": {},
   "outputs": [
    {
     "data": {
      "text/plain": [
       "244"
      ]
     },
     "execution_count": 5,
     "metadata": {},
     "output_type": "execute_result"
    }
   ],
   "source": [
    "len(text.split())"
   ]
  },
  {
   "cell_type": "markdown",
   "metadata": {},
   "source": [
    "> How many unique words in the \"text\""
   ]
  },
  {
   "cell_type": "code",
   "execution_count": 6,
   "metadata": {},
   "outputs": [],
   "source": [
    "# CODE HERE"
   ]
  },
  {
   "cell_type": "code",
   "execution_count": 8,
   "metadata": {},
   "outputs": [
    {
     "name": "stdout",
     "output_type": "stream",
     "text": [
      "<class 'list'>\n"
     ]
    },
    {
     "data": {
      "text/plain": [
       "174"
      ]
     },
     "execution_count": 8,
     "metadata": {},
     "output_type": "execute_result"
    }
   ],
   "source": [
    "#method 1\n",
    "words = text.split()\n",
    "print(type(words))\n",
    "word = []\n",
    "for i in words:\n",
    "    if i not  in word:\n",
    "        word.append(i);\n",
    "len(word)"
   ]
  },
  {
   "cell_type": "code",
   "execution_count": 9,
   "metadata": {},
   "outputs": [
    {
     "name": "stdout",
     "output_type": "stream",
     "text": [
      "Total number of word -- 244\n",
      "Total number of unique words -- 174\n"
     ]
    }
   ],
   "source": [
    "#method 2\n",
    "print('Total number of word --',len(text.split()))\n",
    "\n",
    "#we know that set is collection of unique elements,hence\n",
    "\n",
    "print(\"Total number of unique words --\",len(set(text.split())))"
   ]
  },
  {
   "cell_type": "markdown",
   "metadata": {},
   "source": [
    "> Find Lexical diversity\n",
    "\n",
    "lexical_diversity = (number of words)/(number of unique words)"
   ]
  },
  {
   "cell_type": "code",
   "execution_count": 10,
   "metadata": {},
   "outputs": [
    {
     "data": {
      "text/plain": [
       "1.4022988505747127"
      ]
     },
     "execution_count": 10,
     "metadata": {},
     "output_type": "execute_result"
    }
   ],
   "source": [
    "len(text.split())/len(word)"
   ]
  },
  {
   "cell_type": "markdown",
   "metadata": {},
   "source": [
    "> Count how many \"the\" in text"
   ]
  },
  {
   "cell_type": "code",
   "execution_count": 11,
   "metadata": {},
   "outputs": [],
   "source": [
    "# CODE HERE"
   ]
  },
  {
   "cell_type": "code",
   "execution_count": 12,
   "metadata": {},
   "outputs": [
    {
     "data": {
      "text/plain": [
       "14"
      ]
     },
     "execution_count": 12,
     "metadata": {},
     "output_type": "execute_result"
    }
   ],
   "source": [
    "text.lower().count('the')"
   ]
  },
  {
   "cell_type": "markdown",
   "metadata": {},
   "source": [
    "> Count how many \"a\" in text"
   ]
  },
  {
   "cell_type": "code",
   "execution_count": 13,
   "metadata": {},
   "outputs": [
    {
     "data": {
      "text/plain": [
       "92"
      ]
     },
     "execution_count": 13,
     "metadata": {},
     "output_type": "execute_result"
    }
   ],
   "source": [
    "text.lower().count('a')"
   ]
  },
  {
   "cell_type": "markdown",
   "metadata": {},
   "source": [
    "> Extract First 10 words in text"
   ]
  },
  {
   "cell_type": "code",
   "execution_count": 14,
   "metadata": {},
   "outputs": [],
   "source": [
    "# CODE HERE"
   ]
  },
  {
   "cell_type": "code",
   "execution_count": 15,
   "metadata": {},
   "outputs": [
    {
     "name": "stdout",
     "output_type": "stream",
     "text": [
      "The University of Hawaii began using radio to send digital\n"
     ]
    }
   ],
   "source": [
    "a10 = \" \".join(text.split()[:10])\n",
    "print(a10)"
   ]
  },
  {
   "cell_type": "markdown",
   "metadata": {},
   "source": [
    "> Append \" Innomatics Technology Hub\" in first 10 words"
   ]
  },
  {
   "cell_type": "code",
   "execution_count": 16,
   "metadata": {},
   "outputs": [],
   "source": [
    "# CODE HERE"
   ]
  },
  {
   "cell_type": "code",
   "execution_count": 17,
   "metadata": {},
   "outputs": [
    {
     "name": "stdout",
     "output_type": "stream",
     "text": [
      "The University of Hawaii began using radio to send digital Innomatics Technology Hub\n"
     ]
    }
   ],
   "source": [
    "demo = a10 +' Innomatics Technology Hub'\n",
    "print(demo)"
   ]
  },
  {
   "cell_type": "markdown",
   "metadata": {},
   "source": [
    "> Extract First Fourteen (14) character in text"
   ]
  },
  {
   "cell_type": "code",
   "execution_count": 18,
   "metadata": {},
   "outputs": [],
   "source": [
    "# CODE HERE"
   ]
  },
  {
   "cell_type": "code",
   "execution_count": 19,
   "metadata": {},
   "outputs": [
    {
     "data": {
      "text/plain": [
       "'The University'"
      ]
     },
     "execution_count": 19,
     "metadata": {},
     "output_type": "execute_result"
    }
   ],
   "source": [
    "chars_f14 = text[0:14]\n",
    "chars_f14"
   ]
  },
  {
   "cell_type": "markdown",
   "metadata": {},
   "source": [
    "> Extract first Fourteen (14) words in text"
   ]
  },
  {
   "cell_type": "code",
   "execution_count": 20,
   "metadata": {},
   "outputs": [],
   "source": [
    "# CODE HERE"
   ]
  },
  {
   "cell_type": "code",
   "execution_count": 21,
   "metadata": {},
   "outputs": [
    {
     "data": {
      "text/plain": [
       "'The University of Hawaii began using radio to send digital information as early as'"
      ]
     },
     "execution_count": 21,
     "metadata": {},
     "output_type": "execute_result"
    }
   ],
   "source": [
    "\" \".join(text.split(' ')[0:14])"
   ]
  },
  {
   "cell_type": "markdown",
   "metadata": {},
   "source": [
    "> Extract First 10 words in text\n",
    "- Convert every letter into ***upper*** case\n",
    "- Convert every letter into ***lower*** case"
   ]
  },
  {
   "cell_type": "code",
   "execution_count": 22,
   "metadata": {},
   "outputs": [],
   "source": [
    "# CODE HERE"
   ]
  },
  {
   "cell_type": "code",
   "execution_count": 23,
   "metadata": {},
   "outputs": [
    {
     "data": {
      "text/plain": [
       "'THE UNIVERSITY OF HAWAII BEGAN USING RADIO TO SEND DIGITAL'"
      ]
     },
     "execution_count": 23,
     "metadata": {},
     "output_type": "execute_result"
    }
   ],
   "source": [
    "a10.upper()\n"
   ]
  },
  {
   "cell_type": "code",
   "execution_count": 24,
   "metadata": {},
   "outputs": [],
   "source": [
    "# CODE HERE"
   ]
  },
  {
   "cell_type": "code",
   "execution_count": 25,
   "metadata": {},
   "outputs": [
    {
     "data": {
      "text/plain": [
       "'the university of hawaii began using radio to send digital'"
      ]
     },
     "execution_count": 25,
     "metadata": {},
     "output_type": "execute_result"
    }
   ],
   "source": [
    "a10.lower()"
   ]
  },
  {
   "cell_type": "markdown",
   "metadata": {},
   "source": [
    "> Find the list of letter starting with \n",
    "- u\n",
    "- o"
   ]
  },
  {
   "cell_type": "code",
   "execution_count": 26,
   "metadata": {},
   "outputs": [],
   "source": [
    "# CODE HERE"
   ]
  },
  {
   "cell_type": "code",
   "execution_count": 27,
   "metadata": {},
   "outputs": [
    {
     "name": "stdout",
     "output_type": "stream",
     "text": [
      "['university', 'using', 'under']\n"
     ]
    }
   ],
   "source": [
    "#method 1\n",
    "words = text.lower().split()\n",
    "word = []\n",
    "for i in words:\n",
    "     if i.startswith('u'):\n",
    "            if i not in word:\n",
    "                word.append(i);\n",
    "        \n",
    "print(word)"
   ]
  },
  {
   "cell_type": "code",
   "execution_count": 28,
   "metadata": {},
   "outputs": [
    {
     "name": "stdout",
     "output_type": "stream",
     "text": [
      "['University', 'using', 'under', 'under', 'Under']\n",
      "['under', 'University', 'Under', 'using']\n"
     ]
    }
   ],
   "source": [
    "#method 2\n",
    "wordlist= text.split()\n",
    "list1 = [i for i in wordlist if i.lower().startswith('u')]\n",
    "print(list1)\n",
    "set_u= set(list1)\n",
    "print(list(set_u))"
   ]
  },
  {
   "cell_type": "code",
   "execution_count": 29,
   "metadata": {},
   "outputs": [
    {
     "name": "stdout",
     "output_type": "stream",
     "text": [
      "['of', 'out', 'one', 'oslo.', 'on']\n"
     ]
    }
   ],
   "source": [
    "#Find the list of letters start with o\n",
    "#method 1\n",
    "words = text.lower().split()\n",
    "word = []\n",
    "for i in words:\n",
    "     if i.startswith('o'):\n",
    "            if i not in word:\n",
    "                word.append(i);\n",
    "        \n",
    "print(word)"
   ]
  },
  {
   "cell_type": "code",
   "execution_count": 30,
   "metadata": {},
   "outputs": [
    {
     "name": "stdout",
     "output_type": "stream",
     "text": [
      "['of', 'out', 'one', 'of', 'oslo.', 'of', 'of', 'of', 'of', 'on', 'on', 'of', 'one']\n",
      "['of', 'oslo.', 'one', 'out', 'on']\n"
     ]
    }
   ],
   "source": [
    "#method 2\n",
    "list1 = [i for i in words if i.startswith('o')]\n",
    "print(list1)\n",
    "set_o= set(list1)\n",
    "print(list(set_o))"
   ]
  },
  {
   "cell_type": "markdown",
   "metadata": {},
   "source": [
    "> Find the list of letter ending with \n",
    "- e\n",
    "- n"
   ]
  },
  {
   "cell_type": "code",
   "execution_count": 31,
   "metadata": {},
   "outputs": [],
   "source": [
    "# CODE HERE"
   ]
  },
  {
   "cell_type": "code",
   "execution_count": null,
   "metadata": {},
   "outputs": [],
   "source": []
  },
  {
   "cell_type": "code",
   "execution_count": 32,
   "metadata": {},
   "outputs": [
    {
     "name": "stdout",
     "output_type": "stream",
     "text": [
      "['the', 'type', 'while', 'made', 'determine', 'be', 'since', 'mobile', 'these', 'france', 'message', 'he', '(compare', 'one', 'deutsche', '(groupe', 'have', '(see', 'language', 'simple', '\"sequence']\n"
     ]
    }
   ],
   "source": [
    "#method 1\n",
    "word = []\n",
    "for i in words:\n",
    "     if i.endswith('e'):\n",
    "            if i not in word:\n",
    "                word.append(i);\n",
    "        \n",
    "print(list(set(word)))"
   ]
  },
  {
   "cell_type": "code",
   "execution_count": 33,
   "metadata": {},
   "outputs": [
    {
     "name": "stdout",
     "output_type": "stream",
     "text": [
      "['the', 'type', 'while', 'made', 'determine', 'be', 'since', 'mobile', 'these', 'france', 'message', 'he', '(compare', 'one', 'deutsche', '(groupe', 'have', '(see', 'language', 'simple', '\"sequence']\n"
     ]
    }
   ],
   "source": [
    "#method 2\n",
    "list1 = [i for i in words if i.endswith('e')]\n",
    "set_e= set(list1)\n",
    "print(list(set_e))"
   ]
  },
  {
   "cell_type": "code",
   "execution_count": 34,
   "metadata": {},
   "outputs": [
    {
     "name": "stdout",
     "output_type": "stream",
     "text": [
      "['began', 'information', 'in', 'than', 'solution', 'finn', 'kevin', 'ian', 'an', 'isdn', 'on', 'can']\n"
     ]
    }
   ],
   "source": [
    "#words end with n\n",
    "#method 1\n",
    "word = []\n",
    "for i in words:\n",
    "     if i.endswith('n'):\n",
    "            if i not in word:\n",
    "                word.append(i);\n",
    "        \n",
    "print(word)"
   ]
  },
  {
   "cell_type": "code",
   "execution_count": 35,
   "metadata": {},
   "outputs": [
    {
     "name": "stdout",
     "output_type": "stream",
     "text": [
      "['began', 'information', 'in', 'than', 'in', 'in', 'solution', 'in', 'finn', 'kevin', 'ian', 'an', 'in', 'isdn', 'on', 'on', 'isdn', 'can']\n",
      "['in', 'began', 'solution', 'can', 'information', 'finn', 'than', 'isdn', 'on', 'ian', 'kevin', 'an']\n"
     ]
    }
   ],
   "source": [
    "#method 2\n",
    "list1 = [i for i in words if i.endswith('n')]\n",
    "print(list1)\n",
    "set_n= set(list1)\n",
    "print(list(set_n))"
   ]
  },
  {
   "cell_type": "markdown",
   "metadata": {},
   "source": [
    "> Extract first 10 words of text and Capitalize first letter of each word"
   ]
  },
  {
   "cell_type": "code",
   "execution_count": 36,
   "metadata": {},
   "outputs": [],
   "source": [
    "# CODE HERE"
   ]
  },
  {
   "cell_type": "code",
   "execution_count": 37,
   "metadata": {},
   "outputs": [
    {
     "data": {
      "text/plain": [
       "'The university of hawaii began using radio to send digital'"
      ]
     },
     "execution_count": 37,
     "metadata": {},
     "output_type": "execute_result"
    }
   ],
   "source": [
    "a10.capitalize()"
   ]
  },
  {
   "cell_type": "markdown",
   "metadata": {},
   "source": [
    "> Replace the word \"University\" with name \"Innomatics\" in text"
   ]
  },
  {
   "cell_type": "code",
   "execution_count": 38,
   "metadata": {},
   "outputs": [],
   "source": [
    "# CODE HERE"
   ]
  },
  {
   "cell_type": "code",
   "execution_count": 39,
   "metadata": {
    "scrolled": false
   },
   "outputs": [
    {
     "data": {
      "text/plain": [
       "'The Innomatics of Hawaii began using radio to send digital information as early as 1971,using ALOHAnet. \\nFriedhelm Hillebrand conceptualised SMS in 1984 while working for Deutsche Telekom. Sitting at a typewriter at home, \\nHillebrand typed out random sentences and counted every letter, number, punctuation, and space. \\nAlmost every time, the messages contained fewer than 160 characters, thus giving the basis for the \\nlimit one could type via text messaging. With Bernard Ghillebaert of France Télécom, he developed \\na proposal for the GSM (Groupe Spécial Mobile) meeting in February 1985 in Oslo. \\nThe first technical solution evolved in a GSM subgroup under the leadership of Finn Trosby. \\nIt was further developed under the leadership of Kevin Holley and Ian Harris (see Short Message Service). \\nSMS forms an integral part of SS7 (Signalling System No. 7). Under SS7, it is a \"state\" with a 160 character data, \\ncoded in the ITU-T \"T.56\" text format, that has a \"sequence lead in\" to determine different language codes, \\nand may have special character codes that permits, for example, sending simple graphs as text. \\nThis was part of ISDN (Integrated Services Digital Network) and since GSM is based on this, \\nmade its way to the mobile phone. Messages could be sent and received on ISDN phones, \\nand these can send SMS to any GSM phone. The possibility of doing something is one thing, \\nimplementing it another, but systems existed from 1988 that sent SMS messages to mobile phones (compare ND-NOTIS).'"
      ]
     },
     "execution_count": 39,
     "metadata": {},
     "output_type": "execute_result"
    }
   ],
   "source": [
    "text.replace('University','Innomatics')"
   ]
  },
  {
   "cell_type": "markdown",
   "metadata": {},
   "source": [
    "## Convert the \"text\" into sentances and store that into sentance"
   ]
  },
  {
   "cell_type": "code",
   "execution_count": 40,
   "metadata": {},
   "outputs": [],
   "source": [
    "# CODE HERE"
   ]
  },
  {
   "cell_type": "code",
   "execution_count": 41,
   "metadata": {},
   "outputs": [
    {
     "data": {
      "text/plain": [
       "['The University of Hawaii began using radio to send digital information as early as 1971,using ALOHAnet',\n",
       " ' \\nFriedhelm Hillebrand conceptualised SMS in 1984 while working for Deutsche Telekom',\n",
       " ' Sitting at a typewriter at home, \\nHillebrand typed out random sentences and counted every letter, number, punctuation, and space',\n",
       " ' \\nAlmost every time, the messages contained fewer than 160 characters, thus giving the basis for the \\nlimit one could type via text messaging',\n",
       " ' With Bernard Ghillebaert of France Télécom, he developed \\na proposal for the GSM (Groupe Spécial Mobile) meeting in February 1985 in Oslo',\n",
       " ' \\nThe first technical solution evolved in a GSM subgroup under the leadership of Finn Trosby',\n",
       " ' \\nIt was further developed under the leadership of Kevin Holley and Ian Harris (see Short Message Service)',\n",
       " ' \\nSMS forms an integral part of SS7 (Signalling System No',\n",
       " ' 7)',\n",
       " ' Under SS7, it is a \"state\" with a 160 character data, \\ncoded in the ITU-T \"T',\n",
       " '56\" text format, that has a \"sequence lead in\" to determine different language codes, \\nand may have special character codes that permits, for example, sending simple graphs as text',\n",
       " ' \\nThis was part of ISDN (Integrated Services Digital Network) and since GSM is based on this, \\nmade its way to the mobile phone',\n",
       " ' Messages could be sent and received on ISDN phones, \\nand these can send SMS to any GSM phone',\n",
       " ' The possibility of doing something is one thing, \\nimplementing it another, but systems existed from 1988 that sent SMS messages to mobile phones (compare ND-NOTIS)',\n",
       " '']"
      ]
     },
     "execution_count": 41,
     "metadata": {},
     "output_type": "execute_result"
    }
   ],
   "source": [
    "sentences = text.split(\".\")\n",
    "sentences"
   ]
  },
  {
   "cell_type": "markdown",
   "metadata": {},
   "source": [
    "### 1.From the above sentance remove '\\n'\n",
    "### 2. From the above sentace print the first word from each sentance\n",
    "### 3. From the above sentace print even posioned sentances"
   ]
  },
  {
   "cell_type": "code",
   "execution_count": 42,
   "metadata": {},
   "outputs": [
    {
     "data": {
      "text/plain": [
       "'The University of Hawaii began using radio to send digital information as early as 1971,using ALOHAnet \\nFriedhelm Hillebrand conceptualised SMS in 1984 while working for Deutsche Telekom Sitting at a typewriter at home, \\nHillebrand typed out random sentences and counted every letter, number, punctuation, and space \\nAlmost every time, the messages contained fewer than 160 characters, thus giving the basis for the \\nlimit one could type via text messaging With Bernard Ghillebaert of France Télécom, he developed \\na proposal for the GSM (Groupe Spécial Mobile) meeting in February 1985 in Oslo \\nThe first technical solution evolved in a GSM subgroup under the leadership of Finn Trosby \\nIt was further developed under the leadership of Kevin Holley and Ian Harris (see Short Message Service) \\nSMS forms an integral part of SS7 (Signalling System No 7) Under SS7, it is a \"state\" with a 160 character data, \\ncoded in the ITU-T \"T56\" text format, that has a \"sequence lead in\" to determine different language codes, \\nand may have special character codes that permits, for example, sending simple graphs as text \\nThis was part of ISDN (Integrated Services Digital Network) and since GSM is based on this, \\nmade its way to the mobile phone Messages could be sent and received on ISDN phones, \\nand these can send SMS to any GSM phone The possibility of doing something is one thing, \\nimplementing it another, but systems existed from 1988 that sent SMS messages to mobile phones (compare ND-NOTIS)'"
      ]
     },
     "execution_count": 42,
     "metadata": {},
     "output_type": "execute_result"
    }
   ],
   "source": [
    "#1.From the above sentance remove \\n\n",
    "string_word = \"\".join(sentences)\n",
    "string_word"
   ]
  },
  {
   "cell_type": "code",
   "execution_count": 43,
   "metadata": {},
   "outputs": [
    {
     "name": "stdout",
     "output_type": "stream",
     "text": [
      "length of sentences list- 15\n",
      "************************\n",
      "Sentence No -- 1 First word is The\n",
      "Sentence No -- 2 First word is Friedhelm\n",
      "Sentence No -- 3 First word is Sitting\n",
      "Sentence No -- 4 First word is Almost\n",
      "Sentence No -- 5 First word is With\n",
      "Sentence No -- 6 First word is The\n",
      "Sentence No -- 7 First word is It\n",
      "Sentence No -- 8 First word is SMS\n",
      "Sentence No -- 9 First word is 7)\n",
      "Sentence No -- 10 First word is Under\n",
      "Sentence No -- 11 First word is 56\"\n",
      "Sentence No -- 12 First word is This\n",
      "Sentence No -- 13 First word is Messages\n",
      "Sentence No -- 14 First word is The\n"
     ]
    }
   ],
   "source": [
    "# 2. From the above sentace print the first word from each sentance\n",
    "print(\"length of sentences list-\",len(sentences))\n",
    "print(\"************************\")\n",
    "for i in range(0,14):\n",
    "    print('Sentence No --',i+1,'First word is',sentences[i].split()[0])"
   ]
  },
  {
   "cell_type": "code",
   "execution_count": 44,
   "metadata": {},
   "outputs": [
    {
     "name": "stdout",
     "output_type": "stream",
     "text": [
      "['The University of Hawaii began using radio to send digital information as early as 1971,using ALOHAnet', ' Sitting at a typewriter at home, \\nHillebrand typed out random sentences and counted every letter, number, punctuation, and space', ' With Bernard Ghillebaert of France Télécom, he developed \\na proposal for the GSM (Groupe Spécial Mobile) meeting in February 1985 in Oslo', ' \\nIt was further developed under the leadership of Kevin Holley and Ian Harris (see Short Message Service)', ' 7)', '56\" text format, that has a \"sequence lead in\" to determine different language codes, \\nand may have special character codes that permits, for example, sending simple graphs as text', ' Messages could be sent and received on ISDN phones, \\nand these can send SMS to any GSM phone', '']\n"
     ]
    }
   ],
   "source": [
    "# 3. From the above sentace print even posioned sentances\n",
    "print(sentences[::2])"
   ]
  },
  {
   "cell_type": "code",
   "execution_count": null,
   "metadata": {},
   "outputs": [],
   "source": []
  },
  {
   "cell_type": "markdown",
   "metadata": {},
   "source": [
    "### If the following string is given as input to the program:\n",
    "\n",
    "- H1e2l3l4o5w6o7r8l9d\n",
    "\n",
    "### Then, the output of the program should be:\n",
    "\n",
    "- Helloworld"
   ]
  },
  {
   "cell_type": "code",
   "execution_count": 45,
   "metadata": {},
   "outputs": [
    {
     "name": "stdout",
     "output_type": "stream",
     "text": [
      "H1e2l3l4o5w6o7r8l9d\n",
      "Helloworld\n"
     ]
    }
   ],
   "source": [
    "# CODE HERE\n",
    "string = 'H1e2l3l4o5w6o7r8l9d'\n",
    "print(string)\n",
    "op =\"\".join([i for i in string if not i.isdigit()])\n",
    "print(op)"
   ]
  },
  {
   "cell_type": "code",
   "execution_count": null,
   "metadata": {},
   "outputs": [],
   "source": []
  },
  {
   "cell_type": "code",
   "execution_count": null,
   "metadata": {},
   "outputs": [],
   "source": []
  }
 ],
 "metadata": {
  "kernelspec": {
   "display_name": "Python 3",
   "language": "python",
   "name": "python3"
  },
  "language_info": {
   "codemirror_mode": {
    "name": "ipython",
    "version": 3
   },
   "file_extension": ".py",
   "mimetype": "text/x-python",
   "name": "python",
   "nbconvert_exporter": "python",
   "pygments_lexer": "ipython3",
   "version": "3.8.5"
  }
 },
 "nbformat": 4,
 "nbformat_minor": 2
}
