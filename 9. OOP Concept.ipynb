{
 "cells": [
  {
   "cell_type": "code",
   "execution_count": 2,
   "metadata": {},
   "outputs": [],
   "source": [
    "#OOP Concepts:\n",
    "# Create objects and then use those objects\n"
   ]
  },
  {
   "cell_type": "code",
   "execution_count": 3,
   "metadata": {},
   "outputs": [],
   "source": [
    "import math\n",
    "class circle:\n",
    "    \n",
    "    def setRadius(self,r):\n",
    "        self.radius = r\n",
    "    def getArea(self):\n",
    "        return math.pi * self.radius**2\n",
    "    def getPerimeter(self):\n",
    "        return 2*math.pi*self.radius\n",
    "    \n",
    "    \n"
   ]
  },
  {
   "cell_type": "code",
   "execution_count": 4,
   "metadata": {},
   "outputs": [],
   "source": [
    "c1 = circle()\n",
    "c1.setRadius(10)"
   ]
  },
  {
   "cell_type": "code",
   "execution_count": 5,
   "metadata": {},
   "outputs": [
    {
     "name": "stdout",
     "output_type": "stream",
     "text": [
      "Area of circle is : 314.1592653589793\n",
      "Perimeter of circle is: 62.83185307179586\n"
     ]
    }
   ],
   "source": [
    "print(\"Area of circle is :\",c1.getArea())\n",
    "print(\"Perimeter of circle is:\",c1.getPerimeter())"
   ]
  },
  {
   "cell_type": "code",
   "execution_count": 6,
   "metadata": {},
   "outputs": [],
   "source": [
    "#Encapsulation"
   ]
  },
  {
   "cell_type": "code",
   "execution_count": 7,
   "metadata": {},
   "outputs": [],
   "source": [
    "class house:\n",
    "    def __init__(self):\n",
    "        self.__maxprice = 100000\n",
    "        \n",
    "    def sellhouse(self):\n",
    "        print(\"Selling Price is {}\".format(self.__maxprice))\n",
    "        \n",
    "    def setMaxPrice(self,price):\n",
    "        self.__maxprice = price"
   ]
  },
  {
   "cell_type": "code",
   "execution_count": 8,
   "metadata": {},
   "outputs": [
    {
     "name": "stdout",
     "output_type": "stream",
     "text": [
      "Selling Price is 100000\n"
     ]
    }
   ],
   "source": [
    "h1 = house()\n",
    "h1.sellhouse()"
   ]
  },
  {
   "cell_type": "code",
   "execution_count": 9,
   "metadata": {},
   "outputs": [
    {
     "name": "stdout",
     "output_type": "stream",
     "text": [
      "Selling Price is 100000\n"
     ]
    }
   ],
   "source": [
    "h1.__maxprice = 20000\n",
    "h1.sellhouse()"
   ]
  },
  {
   "cell_type": "code",
   "execution_count": 10,
   "metadata": {},
   "outputs": [
    {
     "name": "stdout",
     "output_type": "stream",
     "text": [
      "Selling Price is 2000000\n"
     ]
    }
   ],
   "source": [
    "h1.setMaxPrice(2000000)\n",
    "h1.sellhouse()"
   ]
  },
  {
   "cell_type": "code",
   "execution_count": 11,
   "metadata": {},
   "outputs": [],
   "source": [
    "class Student:\n",
    "    pass"
   ]
  },
  {
   "cell_type": "code",
   "execution_count": 12,
   "metadata": {},
   "outputs": [
    {
     "name": "stdout",
     "output_type": "stream",
     "text": [
      "<__main__.Student object at 0x000001E82E785C40> <__main__.Student object at 0x000001E82E785C70>\n"
     ]
    }
   ],
   "source": [
    "a = Student()\n",
    "b = Student()\n",
    "print(a,b)"
   ]
  },
  {
   "cell_type": "code",
   "execution_count": 13,
   "metadata": {},
   "outputs": [],
   "source": [
    "a.name = \"Achal\"\n",
    "a.std = 12"
   ]
  },
  {
   "cell_type": "code",
   "execution_count": 14,
   "metadata": {},
   "outputs": [
    {
     "name": "stdout",
     "output_type": "stream",
     "text": [
      "Achal\n"
     ]
    }
   ],
   "source": [
    "print(a.name)"
   ]
  },
  {
   "cell_type": "code",
   "execution_count": 15,
   "metadata": {},
   "outputs": [
    {
     "name": "stdout",
     "output_type": "stream",
     "text": [
      "15\n"
     ]
    }
   ],
   "source": [
    "a.std = 15\n",
    "print(a.std)"
   ]
  },
  {
   "cell_type": "code",
   "execution_count": 16,
   "metadata": {},
   "outputs": [
    {
     "name": "stdout",
     "output_type": "stream",
     "text": [
      "Achal 125\n",
      "8 8\n",
      "Name is AchalSalary is 25,role is Data Scientist\n"
     ]
    }
   ],
   "source": [
    "class Employee:\n",
    "    roll = 8\n",
    "    def printdetails(self):\n",
    "        return f\"Name is {self.name}Salary is {self.salary},role is {self.role}\"\n",
    "\n",
    "e1 = Employee()\n",
    "e2 = Employee()\n",
    "\n",
    "e1.name =\"Achal\"\n",
    "e1.salary = 25\n",
    "e1.role = \"Data Scientist\"\n",
    "e2.name = \"Mate\"\n",
    "e2.salary = 125\n",
    "\n",
    "print(e1.name,e2.salary)\n",
    "print(e1.roll,e2.roll)\n",
    "print(e1.printdetails())"
   ]
  },
  {
   "cell_type": "code",
   "execution_count": 17,
   "metadata": {},
   "outputs": [],
   "source": [
    "Employee.roll =10\n",
    "Employee.roll =10"
   ]
  },
  {
   "cell_type": "code",
   "execution_count": 18,
   "metadata": {},
   "outputs": [
    {
     "data": {
      "text/plain": [
       "10"
      ]
     },
     "execution_count": 18,
     "metadata": {},
     "output_type": "execute_result"
    }
   ],
   "source": [
    "e1.roll"
   ]
  },
  {
   "cell_type": "code",
   "execution_count": 19,
   "metadata": {},
   "outputs": [
    {
     "name": "stdout",
     "output_type": "stream",
     "text": [
      "Name is AchalSalary is 25,role is Data Scientist\n"
     ]
    },
    {
     "data": {
      "text/plain": [
       "50"
      ]
     },
     "execution_count": 19,
     "metadata": {},
     "output_type": "execute_result"
    }
   ],
   "source": [
    "class Employee1:\n",
    "    sal = 10\n",
    "    def __init__(self,aname,asalary,arole):\n",
    "        self.name = aname\n",
    "        self.salary = asalary\n",
    "        self.role = arole\n",
    "        \n",
    "    def printdetails(self):\n",
    "        return f\"Name is {self.name} ,Salary is {self.salary},role is {self.role}\"\n",
    "    @classmethod\n",
    "    def change_sal(self,newsal):\n",
    "        self.sal = newsal\n",
    "        pass\n",
    "    \n",
    "el1 =Employee1(\"Achal\",125,\"Data Science\")\n",
    "print(e1.printdetails())\n",
    "el1.change_sal(50)\n",
    "el1.sal"
   ]
  },
  {
   "cell_type": "code",
   "execution_count": 28,
   "metadata": {},
   "outputs": [],
   "source": [
    "class Programmer(Employee1):\n",
    "    def __init__(self,aname,asalary,arole,alang):\n",
    "        self.name = aname\n",
    "        self.salary = asalary\n",
    "        self.role = arole\n",
    "        self.lang = alang\n",
    "        \n",
    "    def printprog(self):\n",
    "        return f\" Programmer Name is {self.name} ,Salary is {self.salary},role is {self.role},language is {self.lang}\"\n",
    "    \n"
   ]
  },
  {
   "cell_type": "code",
   "execution_count": 29,
   "metadata": {},
   "outputs": [
    {
     "name": "stdout",
     "output_type": "stream",
     "text": [
      " Programmer Name is Achal ,Salary is 125,role is Data Science,language is ['cpp', 'java', 'python']\n"
     ]
    }
   ],
   "source": [
    "achal= Programmer(\"Achal\",125,\"Data Science\",[\"cpp\",\"java\",\"python\"]);\n",
    "print(achal.printprog())"
   ]
  },
  {
   "cell_type": "code",
   "execution_count": null,
   "metadata": {},
   "outputs": [],
   "source": []
  }
 ],
 "metadata": {
  "kernelspec": {
   "display_name": "Python 3",
   "language": "python",
   "name": "python3"
  },
  "language_info": {
   "codemirror_mode": {
    "name": "ipython",
    "version": 3
   },
   "file_extension": ".py",
   "mimetype": "text/x-python",
   "name": "python",
   "nbconvert_exporter": "python",
   "pygments_lexer": "ipython3",
   "version": "3.8.5"
  }
 },
 "nbformat": 4,
 "nbformat_minor": 4
}
