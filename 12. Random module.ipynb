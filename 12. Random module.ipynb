{
 "cells": [
  {
   "cell_type": "markdown",
   "metadata": {},
   "source": [
    "# Modules in Python"
   ]
  },
  {
   "cell_type": "markdown",
   "metadata": {},
   "source": [
    "# Random Module"
   ]
  },
  {
   "cell_type": "code",
   "execution_count": 1,
   "metadata": {},
   "outputs": [],
   "source": [
    "import random"
   ]
  },
  {
   "cell_type": "markdown",
   "metadata": {},
   "source": [
    "# seed()"
   ]
  },
  {
   "cell_type": "markdown",
   "metadata": {},
   "source": [
    "\n",
    "The seed() method is used to initialize the random number generator.\n",
    "\n",
    "The random number generator needs a number to start with (a seed value), to be able to generate a random number."
   ]
  },
  {
   "cell_type": "code",
   "execution_count": 2,
   "metadata": {},
   "outputs": [
    {
     "name": "stdout",
     "output_type": "stream",
     "text": [
      "0.5714025946899135\n"
     ]
    }
   ],
   "source": [
    "random.seed(10)\n",
    "print(random.random())"
   ]
  },
  {
   "cell_type": "code",
   "execution_count": 3,
   "metadata": {},
   "outputs": [
    {
     "name": "stdout",
     "output_type": "stream",
     "text": [
      "0.1456692551041303\n"
     ]
    }
   ],
   "source": [
    "random.seed(100)\n",
    "print(random.random())"
   ]
  },
  {
   "cell_type": "markdown",
   "metadata": {},
   "source": [
    "# getstate()\n",
    "\n"
   ]
  },
  {
   "cell_type": "markdown",
   "metadata": {},
   "source": [
    "The getstate() method returns an object with the current state of the random number generator."
   ]
  },
  {
   "cell_type": "code",
   "execution_count": 4,
   "metadata": {},
   "outputs": [
    {
     "name": "stdout",
     "output_type": "stream",
     "text": [
      "(3, (1787546680, 2835000078, 2124125430, 440972303, 3401674009, 2168484653, 2077999363, 152610013, 4192009738, 2059751988, 2307519835, 4080641595, 1398943226, 4049388473, 2153531171, 745260401, 3980084302, 675178041, 2638708678, 4269066800, 541328943, 696477377, 2764323465, 3927960198, 3204458709, 3125438741, 290699118, 1134796374, 3268359736, 4095377628, 3190109658, 2918737407, 3475859255, 192148871, 1631973137, 1741125563, 1202666734, 3973036964, 3936488542, 2047943488, 1945672432, 937644568, 437969033, 940759401, 2965594861, 3706893296, 3958903733, 3807459835, 3640229905, 2138609788, 2236183143, 988978801, 512366304, 3618670376, 2256796642, 4263366433, 3539373492, 3617931574, 3321397172, 1387327957, 1729435297, 1396752506, 3220650820, 2153720952, 1237790624, 3171180480, 3388517131, 3178219601, 1485942171, 358990798, 3445945907, 2097093425, 1179367024, 1648460439, 3608031480, 1515217143, 986819203, 2203558234, 3736150909, 2623888638, 2344657010, 2852172517, 1562780270, 492818548, 3952529490, 447646547, 2081480125, 1932392825, 3887951727, 2226245897, 719997766, 1717912135, 4113676997, 1696006002, 227915938, 3468498897, 893326101, 1062861832, 1963350693, 1085937955, 4268583269, 472184822, 3946793477, 3913458111, 2935047390, 3353477056, 1835435845, 1973323190, 2406823312, 1687855883, 876556900, 3259485619, 1731899246, 2978116631, 2294536741, 3648995959, 883940723, 772879535, 858513024, 61046727, 1680179480, 1312344642, 2744513169, 445791312, 269967290, 1605819501, 3989078375, 1017278341, 4221763023, 1924202838, 2212542292, 3702510075, 3766007714, 3055757377, 921629147, 2761420933, 3869130902, 1215744262, 2931501907, 4288257291, 2977571619, 3127659068, 1260328448, 3846892385, 2385885183, 4292229939, 408766466, 1311638255, 2240078444, 1576899225, 3575478585, 30077252, 3624842525, 3078171324, 3173335691, 3403535494, 14767050, 1260438698, 1096455380, 3572532738, 3202070440, 1243794048, 2833842335, 1599906149, 1456768263, 4091420988, 1882503184, 3147199200, 2663554979, 1435882720, 3053977324, 823584489, 1903209704, 2970371013, 3269759360, 3612160793, 1781111012, 4167867737, 176815005, 2986755978, 1846716912, 3533154870, 1149672010, 2585999665, 1131715984, 510114303, 2140237217, 2651154953, 97307593, 1083556076, 2889377735, 776370413, 4277608182, 3626795195, 3249651695, 2680897377, 1871982889, 1871055035, 1289538566, 524702311, 832095789, 3123020471, 2016009043, 937316826, 2741009158, 3584417191, 1249376627, 1305216127, 3743353708, 2697415891, 2104646648, 2136085156, 808791761, 1553141527, 3666252642, 1008803061, 4102361943, 2713415390, 2076377572, 1532344251, 518879053, 1030133301, 63440601, 93285101, 1180883598, 3653843114, 3991506846, 3413948814, 1065895952, 4019478308, 196766190, 2677202688, 1376092222, 2313341912, 2752584925, 842848482, 511308250, 303416710, 740529765, 3924844332, 3910627120, 2829349599, 3483150074, 3454713320, 636418806, 4289701789, 3541002019, 3008346381, 431681804, 3646693373, 1957464880, 870226167, 1929553858, 2647761668, 3088458211, 495887408, 1780758309, 2324056961, 3215027790, 320787222, 2848840431, 4105111912, 1547674619, 1166074054, 219572064, 2103454091, 4034678863, 2815601206, 2779717552, 238813787, 2689489063, 97348652, 3751614640, 3305151682, 917686661, 1580729163, 1081387241, 117365325, 4114008288, 3107862161, 3398825551, 716721411, 3010406175, 2949749829, 775309427, 3978365092, 3806740758, 2939858488, 377649454, 3890539028, 2307544179, 1167888499, 969992383, 3686659554, 1156005708, 318761658, 346456849, 2266987604, 2525244136, 4036360167, 1488710023, 3491550709, 3274016291, 3245161864, 1329389471, 1786252396, 751848009, 2591632118, 2245830521, 9860816, 327073754, 926987501, 2560905746, 2955028757, 1865514611, 1322728310, 2584573789, 20050868, 1112386174, 2916049421, 434381942, 1382833004, 2231380405, 2355866064, 226393087, 3684692061, 254201938, 3758891651, 377412397, 2128233431, 2394783627, 3253460421, 1205477267, 1637484839, 875841195, 970610461, 2096653566, 1236555228, 337894401, 2276693314, 3131705787, 1868348956, 602301474, 1054501071, 3062815030, 2728266999, 2721933060, 1632149514, 975679231, 3072915264, 3458453328, 320677216, 2196535534, 2926429188, 649638021, 3464644933, 3779613830, 3343090602, 1174268645, 913444547, 1127528077, 2676436005, 78858206, 4112368683, 3346681609, 2144229245, 2244277851, 2507472911, 1152175851, 1657556950, 1946133173, 728322239, 828465576, 1954591102, 957906697, 3401568798, 1222883330, 1234989605, 3997391964, 13046593, 1316190761, 2818911760, 1574383566, 2237733474, 1553502430, 2457557147, 1975458768, 2175398217, 4239783811, 968431040, 3059672600, 2287732849, 2202687202, 19199741, 3383893934, 1289862200, 2663762039, 483824322, 2253586493, 2708538985, 3365370836, 4141488106, 1417965601, 1999123428, 98700139, 2610676937, 623129441, 3117401503, 612282942, 509791424, 3621882655, 3831408533, 3081323471, 1673073074, 3132217214, 3150769013, 1780434249, 4031359806, 4183080188, 3073062960, 1163827418, 4019636386, 1003393161, 2808264610, 1197156071, 3772661411, 751552864, 216660272, 2582390259, 166469505, 971724837, 3904168075, 2985837822, 3770492080, 4227244628, 98454466, 2156863703, 1397547633, 1093206404, 3283110935, 55983369, 311468324, 658222036, 511920085, 4072010569, 2713310715, 2662679871, 1733722081, 2347166594, 2444058458, 685786631, 2207703792, 1804262378, 3454426226, 127181076, 2036436637, 1873785181, 49934860, 1079062047, 886738614, 3596379407, 334314642, 2516232722, 1254770165, 2226968662, 3721144885, 509606949, 3117916399, 1227447819, 2433551945, 2956153611, 4103426017, 1364175191, 91568587, 3318984586, 3717715273, 362414014, 2793470579, 1920606788, 1984713240, 1983314485, 2101264810, 3381029549, 175167300, 3386946970, 23193648, 3735129379, 1041153196, 1688609196, 316325962, 1381561937, 1438604007, 2388662764, 1319507036, 759523998, 2345548184, 2842307568, 841614296, 312991053, 2415513267, 163255992, 589144364, 2990605064, 3875368026, 3388935162, 708060078, 183070387, 961863347, 1013407162, 384207864, 1178810674, 120828612, 2854650115, 3044888893, 4281779495, 497752980, 2645543506, 2420191973, 493159292, 4248573440, 1254878685, 602526488, 3561634793, 565576042, 2926793420, 3651724382, 3631408515, 1862175411, 2590447930, 640562557, 2762239598, 3704145812, 2964019540, 805444275, 2500862204, 3378483933, 2361536222, 3055054139, 1445657826, 1797171778, 1602634246, 4192554595, 3615119745, 4266146216, 830462370, 1729886967, 2796807708, 3921158983, 111030805, 1362706367, 1100100348, 1567738625, 2994779902, 3305670632, 1707718066, 3919917356, 3835495959, 3892274345, 671599831, 1269759830, 224751645, 60294092, 1593115061, 1579378808, 1480229868, 2000410882, 4112261640, 2463263622, 2728646569, 552085975, 3555903451, 3039132097, 1831301100, 4044778299, 1675835913, 648196250, 809485194, 477160570, 4051272440, 2749773644, 3492510524, 985840352, 684273647, 1010912924, 2877221493, 4068823308, 168125668, 912792625, 3049671785, 2588476630, 1143447331, 2149544555, 4163968735, 1616965689, 386487160, 421799896, 181206101, 4049714489, 2362317530, 2940892834, 1410541824, 749942066, 791520725, 4114814101, 4165839056, 4016371256, 1787376493, 1858605919, 1203893485, 1063150888, 3895083870, 192958868, 731621606, 963134955, 2472347807, 1204385949, 757627657, 1831518600, 2527208853, 1683133020, 1177118552, 1742717827, 75281788, 3951046251, 2), None)\n"
     ]
    }
   ],
   "source": [
    "print(random.getstate())"
   ]
  },
  {
   "cell_type": "markdown",
   "metadata": {},
   "source": [
    "# setstate()"
   ]
  },
  {
   "cell_type": "markdown",
   "metadata": {},
   "source": [
    "Restores the internal state of the random number generator"
   ]
  },
  {
   "cell_type": "code",
   "execution_count": 5,
   "metadata": {},
   "outputs": [
    {
     "name": "stdout",
     "output_type": "stream",
     "text": [
      "0.45492700451402135\n",
      "0.7707838056590222\n",
      "0.7707838056590222\n"
     ]
    }
   ],
   "source": [
    "#print a random number:\n",
    "print(random.random())\n",
    "\n",
    "#capture the state:\n",
    "state = random.getstate()\n",
    "\n",
    "#print another random number:\n",
    "print(random.random())\n",
    "\n",
    "#restore the state:\n",
    "random.setstate(state)\n",
    "\n",
    "#and the next random number should be the same as when you captured the state:\n",
    "print(random.random())"
   ]
  },
  {
   "cell_type": "markdown",
   "metadata": {},
   "source": [
    "# Function for bytes and bits"
   ]
  },
  {
   "cell_type": "markdown",
   "metadata": {},
   "source": [
    "# getrandbits()\n"
   ]
  },
  {
   "cell_type": "markdown",
   "metadata": {},
   "source": [
    "The getrandbits() method returns an integer in the specified size (in bits)."
   ]
  },
  {
   "cell_type": "code",
   "execution_count": 6,
   "metadata": {},
   "outputs": [
    {
     "name": "stdout",
     "output_type": "stream",
     "text": [
      "855800418534787154908\n"
     ]
    }
   ],
   "source": [
    "print(random.getrandbits(70))"
   ]
  },
  {
   "cell_type": "markdown",
   "metadata": {},
   "source": [
    "# Function for integers"
   ]
  },
  {
   "cell_type": "markdown",
   "metadata": {},
   "source": [
    "# randint()"
   ]
  },
  {
   "cell_type": "markdown",
   "metadata": {},
   "source": [
    "The randint() method returns an integer number selected element from the specified range."
   ]
  },
  {
   "cell_type": "code",
   "execution_count": 7,
   "metadata": {},
   "outputs": [
    {
     "name": "stdout",
     "output_type": "stream",
     "text": [
      "179\n"
     ]
    }
   ],
   "source": [
    "print(random.randint(90,234))"
   ]
  },
  {
   "cell_type": "markdown",
   "metadata": {},
   "source": [
    "# randrange()"
   ]
  },
  {
   "cell_type": "markdown",
   "metadata": {},
   "source": [
    "The randrange() method returns a randomly selected element from the specified range.\n",
    "random.randrange(start, stop, step)"
   ]
  },
  {
   "cell_type": "code",
   "execution_count": 8,
   "metadata": {},
   "outputs": [
    {
     "name": "stdout",
     "output_type": "stream",
     "text": [
      "19\n"
     ]
    }
   ],
   "source": [
    "print(random.randrange(10,20,3))"
   ]
  },
  {
   "cell_type": "code",
   "execution_count": 9,
   "metadata": {},
   "outputs": [
    {
     "name": "stdout",
     "output_type": "stream",
     "text": [
      "10\n"
     ]
    }
   ],
   "source": [
    "print(random.randrange(10,20,3))"
   ]
  },
  {
   "cell_type": "code",
   "execution_count": 10,
   "metadata": {},
   "outputs": [
    {
     "name": "stdout",
     "output_type": "stream",
     "text": [
      "18\n"
     ]
    }
   ],
   "source": [
    "print(random.randrange(10,20))"
   ]
  },
  {
   "cell_type": "code",
   "execution_count": 11,
   "metadata": {},
   "outputs": [
    {
     "name": "stdout",
     "output_type": "stream",
     "text": [
      "10\n"
     ]
    }
   ],
   "source": [
    "print(random.randrange(10,20,3))"
   ]
  },
  {
   "cell_type": "markdown",
   "metadata": {},
   "source": [
    "# Functions for sequences"
   ]
  },
  {
   "cell_type": "markdown",
   "metadata": {},
   "source": [
    "# choice()"
   ]
  },
  {
   "cell_type": "markdown",
   "metadata": {},
   "source": [
    "Returns a random element from the given sequence"
   ]
  },
  {
   "cell_type": "code",
   "execution_count": 12,
   "metadata": {},
   "outputs": [
    {
     "name": "stdout",
     "output_type": "stream",
     "text": [
      "apple\n"
     ]
    }
   ],
   "source": [
    "mylist = [\"apple\", \"banana\", \"cherry\"]\n",
    "\n",
    "print(random.choice(mylist))"
   ]
  },
  {
   "cell_type": "code",
   "execution_count": 13,
   "metadata": {},
   "outputs": [
    {
     "name": "stdout",
     "output_type": "stream",
     "text": [
      "cherry\n"
     ]
    }
   ],
   "source": [
    "print(random.choice(mylist))"
   ]
  },
  {
   "cell_type": "code",
   "execution_count": 14,
   "metadata": {},
   "outputs": [
    {
     "name": "stdout",
     "output_type": "stream",
     "text": [
      "C\n"
     ]
    }
   ],
   "source": [
    "x = \"WELCOME\"\n",
    "\n",
    "print(random.choice(x))"
   ]
  },
  {
   "cell_type": "markdown",
   "metadata": {},
   "source": [
    "# choices() "
   ]
  },
  {
   "cell_type": "markdown",
   "metadata": {},
   "source": [
    "Returns a list with a random selection from the given sequence\n",
    "syntax:\n",
    "\n",
    "random.choices(sequence, weights=None, cum_weights=None, k=1)\n",
    "Parameter Values and Description\n",
    "sequence ==\tRequired. A sequence like a list, a tuple, a range of numbers etc.\n",
    "weights ==\tOptional. A list were you can weigh the possibility for each value.\n",
    "Default None\n",
    "cum_weights== Optional. A list were you can weigh the possibility for each value, only this time the possibility is accumulated.\n",
    "Example: normal weights list: [2, 1, 1] is the same as this cum_weights list; [2, 3, 4].\n",
    "Default None\n",
    "k\t== Optional. An integer defining the length of the returned list"
   ]
  },
  {
   "cell_type": "code",
   "execution_count": 15,
   "metadata": {},
   "outputs": [
    {
     "name": "stdout",
     "output_type": "stream",
     "text": [
      "['apple', 'banana', 'banana', 'apple', 'apple', 'cherry', 'cherry', 'cherry', 'apple', 'cherry', 'banana', 'banana', 'cherry', 'banana']\n"
     ]
    }
   ],
   "source": [
    "print(random.choices(mylist, weights = [3, 3, 3], k = 14))"
   ]
  },
  {
   "cell_type": "markdown",
   "metadata": {},
   "source": [
    "# shuffle()\n"
   ]
  },
  {
   "cell_type": "markdown",
   "metadata": {},
   "source": [
    "Takes a sequence and returns the sequence in a random order"
   ]
  },
  {
   "cell_type": "code",
   "execution_count": 16,
   "metadata": {},
   "outputs": [
    {
     "name": "stdout",
     "output_type": "stream",
     "text": [
      "['apple', 'cherry', 'banana']\n"
     ]
    }
   ],
   "source": [
    "random.shuffle(mylist)\n",
    "\n",
    "print(mylist)"
   ]
  },
  {
   "cell_type": "markdown",
   "metadata": {},
   "source": [
    "# sample()"
   ]
  },
  {
   "cell_type": "markdown",
   "metadata": {},
   "source": [
    "Returns a given sample of a sequence\n",
    "The sample() method returns a list with a randomly selection of a specified number of items from a sequnce."
   ]
  },
  {
   "cell_type": "code",
   "execution_count": 17,
   "metadata": {},
   "outputs": [
    {
     "name": "stdout",
     "output_type": "stream",
     "text": [
      "['cherry', 'apple']\n"
     ]
    }
   ],
   "source": [
    "print(random.sample(mylist, k=2))"
   ]
  },
  {
   "cell_type": "markdown",
   "metadata": {},
   "source": [
    "# Real-valued distributions\n"
   ]
  },
  {
   "cell_type": "markdown",
   "metadata": {},
   "source": [
    "# random()"
   ]
  },
  {
   "cell_type": "markdown",
   "metadata": {},
   "source": [
    "Returns a random float number between 0 and 1"
   ]
  },
  {
   "cell_type": "code",
   "execution_count": 18,
   "metadata": {},
   "outputs": [
    {
     "name": "stdout",
     "output_type": "stream",
     "text": [
      "0.856483359996549\n"
     ]
    }
   ],
   "source": [
    "print(random.random())"
   ]
  },
  {
   "cell_type": "markdown",
   "metadata": {},
   "source": [
    "# uniform()"
   ]
  },
  {
   "cell_type": "markdown",
   "metadata": {},
   "source": [
    "The uniform() method returns a random floating number between the two specified numbers (both included).\n",
    "\n",
    "random.uniform(a, b)"
   ]
  },
  {
   "cell_type": "code",
   "execution_count": 19,
   "metadata": {},
   "outputs": [
    {
     "name": "stdout",
     "output_type": "stream",
     "text": [
      "45.538242496279864\n"
     ]
    }
   ],
   "source": [
    "print(random.uniform(20, 60))"
   ]
  },
  {
   "cell_type": "markdown",
   "metadata": {},
   "source": [
    "# triangular()"
   ]
  },
  {
   "cell_type": "markdown",
   "metadata": {},
   "source": [
    "Returns a random float number between two given parameters, you can also set a mode parameter to specify the midpoint between the two other parameters\n"
   ]
  },
  {
   "cell_type": "markdown",
   "metadata": {},
   "source": [
    "The triangular() method returns a random floating number between the two specified numbers (both included), but you can also specify a third parameter, the mode parameter."
   ]
  },
  {
   "cell_type": "markdown",
   "metadata": {},
   "source": [
    "The mode parameter gives you the opportunity to weigh the possible outcome closer to one of the other two parameter values.\n",
    "\n",
    "The mode parameter defaults to the midpoint between the two other parameter values, which will not weigh the possible outcome in any direction."
   ]
  },
  {
   "cell_type": "code",
   "execution_count": 20,
   "metadata": {},
   "outputs": [
    {
     "name": "stdout",
     "output_type": "stream",
     "text": [
      "17.361672729991582\n"
     ]
    }
   ],
   "source": [
    "#random.triangular(low, high, mode)\n",
    "print(random.triangular(10,40,20))"
   ]
  },
  {
   "cell_type": "markdown",
   "metadata": {},
   "source": [
    "# betavariate()"
   ]
  },
  {
   "cell_type": "markdown",
   "metadata": {},
   "source": [
    "Returns a random float number between 0 and 1 based on the Beta distribution (used in statistics)"
   ]
  },
  {
   "cell_type": "code",
   "execution_count": 21,
   "metadata": {},
   "outputs": [
    {
     "data": {
      "text/plain": [
       "0.7507878388854679"
      ]
     },
     "execution_count": 21,
     "metadata": {},
     "output_type": "execute_result"
    }
   ],
   "source": [
    "random.betavariate(5,1)\n"
   ]
  },
  {
   "cell_type": "markdown",
   "metadata": {},
   "source": [
    "# expovariate()\n"
   ]
  },
  {
   "cell_type": "markdown",
   "metadata": {},
   "source": [
    "Returns a random float number based on the Exponential distribution (used in statistics)"
   ]
  },
  {
   "cell_type": "code",
   "execution_count": 22,
   "metadata": {},
   "outputs": [
    {
     "data": {
      "text/plain": [
       "0.017738199721798242"
      ]
     },
     "execution_count": 22,
     "metadata": {},
     "output_type": "execute_result"
    }
   ],
   "source": [
    "random.expovariate(10)"
   ]
  },
  {
   "cell_type": "markdown",
   "metadata": {},
   "source": [
    "# gammavariate()"
   ]
  },
  {
   "cell_type": "markdown",
   "metadata": {},
   "source": [
    "Returns a random float number based on the Gamma distribution (used in statistics)"
   ]
  },
  {
   "cell_type": "code",
   "execution_count": 23,
   "metadata": {},
   "outputs": [
    {
     "data": {
      "text/plain": [
       "69.16631902063136"
      ]
     },
     "execution_count": 23,
     "metadata": {},
     "output_type": "execute_result"
    }
   ],
   "source": [
    "random.gammavariate(10,10)\n"
   ]
  },
  {
   "cell_type": "markdown",
   "metadata": {},
   "source": [
    "# gauss()"
   ]
  },
  {
   "cell_type": "markdown",
   "metadata": {},
   "source": [
    "Returns a random float number based on the Gaussian distribution (used in probability theories)"
   ]
  },
  {
   "cell_type": "code",
   "execution_count": 24,
   "metadata": {},
   "outputs": [
    {
     "name": "stdout",
     "output_type": "stream",
     "text": [
      "['a', 'B', 'c', 'D']\n",
      "['B', 'a', 'D', 'a', 'B', 'c', 'D', 'c']\n"
     ]
    }
   ],
   "source": [
    "word = 'aBcD'\n",
    "lst = list(word)\n",
    "lst2 = []\n",
    "print(lst)\n",
    "j = 1\n",
    "i = 0\n",
    "for i in lst:\n",
    "    global j\n",
    "    for j in lst[1:]:\n",
    "        if i.islower() and j.isupper():\n",
    "            lst2.append(j)\n",
    "            lst2.append(i)\n",
    "    \n",
    "\n",
    "word2 = str(lst2)\n",
    "                \n",
    "print(word2)\n",
    "      \n",
    "            \n",
    "            \n",
    "            \n",
    "        \n",
    "        "
   ]
  },
  {
   "cell_type": "code",
   "execution_count": null,
   "metadata": {},
   "outputs": [],
   "source": []
  }
 ],
 "metadata": {
  "kernelspec": {
   "display_name": "Python 3",
   "language": "python",
   "name": "python3"
  },
  "language_info": {
   "codemirror_mode": {
    "name": "ipython",
    "version": 3
   },
   "file_extension": ".py",
   "mimetype": "text/x-python",
   "name": "python",
   "nbconvert_exporter": "python",
   "pygments_lexer": "ipython3",
   "version": "3.8.5"
  }
 },
 "nbformat": 4,
 "nbformat_minor": 4
}
