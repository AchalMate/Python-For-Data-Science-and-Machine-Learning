{
 "cells": [
  {
   "cell_type": "markdown",
   "metadata": {},
   "source": [
    "# IF , ELSE.... FOR LOOP"
   ]
  },
  {
   "cell_type": "markdown",
   "metadata": {},
   "source": [
    "> print this is hour in current minute is odd"
   ]
  },
  {
   "cell_type": "code",
   "execution_count": 9,
   "metadata": {},
   "outputs": [
    {
     "name": "stdout",
     "output_type": "stream",
     "text": [
      "Current minute is : 27\n",
      "This is Odd minute\n"
     ]
    }
   ],
   "source": [
    "from datetime import datetime\n",
    "minu = datetime.now().minute\n",
    "print(\"Current minute is :\",minu)\n",
    "if minu % 2 != 0:\n",
    "    print(\"This is Odd minute\")\n",
    "else:\n",
    "    print(\"This is even minute\")"
   ]
  },
  {
   "cell_type": "markdown",
   "metadata": {},
   "source": [
    "> if today is satarday then print 'Party !!!' or if sunday print take rest other wise print work , work, work"
   ]
  },
  {
   "cell_type": "code",
   "execution_count": 11,
   "metadata": {},
   "outputs": [
    {
     "name": "stdout",
     "output_type": "stream",
     "text": [
      "Enter the current daysunday\n",
      "Today day is : Sunday\n",
      "Take Rest\n"
     ]
    }
   ],
   "source": [
    "#CODE HERE\n",
    "\n",
    "day = input(\"Enter the current day\")\n",
    "if day.lower()== 'sunday':\n",
    "    print(\"Today day is : Sunday\\nTake Rest\")\n",
    "elif day.loower() == 'satursday':\n",
    "    print(\"Today day is : Satursday\\nTake Rest\")\n",
    "else:\n",
    "    print(\"Today day is :{} \\nwork,work,work\".format(day))"
   ]
  },
  {
   "cell_type": "markdown",
   "metadata": {},
   "source": [
    "> Write a program which will find all such numbers which are divisible by 7 but are not a multiple of 5, between 2000 and 3200 (both included). The numbers obtained should be printed in a comma-separated sequence on a single line."
   ]
  },
  {
   "cell_type": "code",
   "execution_count": 12,
   "metadata": {},
   "outputs": [
    {
     "name": "stdout",
     "output_type": "stream",
     "text": [
      "2002,2009,2016,2023,2037,2044,2051,2058,2072,2079,2086,2093,2107,2114,2121,2128,2142,2149,2156,2163,2177,2184,2191,2198,2212,2219,2226,2233,2247,2254,2261,2268,2282,2289,2296,2303,2317,2324,2331,2338,2352,2359,2366,2373,2387,2394,2401,2408,2422,2429,2436,2443,2457,2464,2471,2478,2492,2499,2506,2513,2527,2534,2541,2548,2562,2569,2576,2583,2597,2604,2611,2618,2632,2639,2646,2653,2667,2674,2681,2688,2702,2709,2716,2723,2737,2744,2751,2758,2772,2779,2786,2793,2807,2814,2821,2828,2842,2849,2856,2863,2877,2884,2891,2898,2912,2919,2926,2933,2947,2954,2961,2968,2982,2989,2996,3003,3017,3024,3031,3038,3052,3059,3066,3073,3087,3094,3101,3108,3122,3129,3136,3143,3157,3164,3171,3178,3192,3199,"
     ]
    }
   ],
   "source": [
    "#CODE HERE\n",
    "for i in range(2000,3200):\n",
    "    if i%7==0 and i%5!=0:\n",
    "        print(i,end=\",\")"
   ]
  },
  {
   "cell_type": "markdown",
   "metadata": {},
   "source": [
    "> Write a program which can compute the factorial of a given numbers.\n",
    "The results should be printed in a comma-separated sequence on a single line.\n",
    "Suppose the following input is supplied to the program:\n",
    "8\n",
    "Then, the output should be:\n",
    "40320"
   ]
  },
  {
   "cell_type": "code",
   "execution_count": 13,
   "metadata": {},
   "outputs": [
    {
     "name": "stdout",
     "output_type": "stream",
     "text": [
      "Enter the value to compute the factorial20\n",
      "20 != 2432902008176640000\n"
     ]
    }
   ],
   "source": [
    "#CODE HERE\n",
    "import math\n",
    "num = int(input(\"Enter the value to compute the factorial\"))\n",
    "print(num,\"!=\",math.factorial(num))        "
   ]
  },
  {
   "cell_type": "markdown",
   "metadata": {},
   "source": [
    "> With a given integral number n, write a program to generate a dictionary that contains (i, i*i) such that is an integral number between 1 and n (both included). and then the program should print the dictionary.\n",
    "Suppose the following input is supplied to the program:\n",
    "8\n",
    "Then, the output should be:\n",
    "{1: 1, 2: 4, 3: 9, 4: 16, 5: 25, 6: 36, 7: 49, 8: 64}\n",
    "\n",
    "*Hint* : use dict()"
   ]
  },
  {
   "cell_type": "code",
   "execution_count": 14,
   "metadata": {},
   "outputs": [
    {
     "name": "stdout",
     "output_type": "stream",
     "text": [
      "Enter the value: 30\n",
      "{1: 1, 2: 4, 3: 9, 4: 16, 5: 25, 6: 36, 7: 49, 8: 64, 9: 81, 10: 100, 11: 121, 12: 144, 13: 169, 14: 196, 15: 225, 16: 256, 17: 289, 18: 324, 19: 361, 20: 400, 21: 441, 22: 484, 23: 529, 24: 576, 25: 625, 26: 676, 27: 729, 28: 784, 29: 841, 30: 900}\n"
     ]
    }
   ],
   "source": [
    "#CODE HERE\n",
    "num  = int(input(\"Enter the value: \"))\n",
    "demo = {}\n",
    "for i in range(1,num+1):\n",
    "    demo[i]=i*i\n",
    "print(demo)\n",
    "    "
   ]
  },
  {
   "cell_type": "markdown",
   "metadata": {},
   "source": [
    "> create user defined fuction for \n",
    "- addition \"add\"\n",
    "- subtraction \"sub\"\n",
    "- multiplication \"mul\"\n",
    "- division \"div\"\n",
    "- power \"pow\""
   ]
  },
  {
   "cell_type": "code",
   "execution_count": 15,
   "metadata": {},
   "outputs": [
    {
     "name": "stdout",
     "output_type": "stream",
     "text": [
      "Enter the first number34\n",
      "Enter the second number56\n",
      "Enter the keyword {add, sub, mul, div, pow}:powsub\n",
      "Subtraction is : -22\n"
     ]
    }
   ],
   "source": [
    "num1 = int(input(\"Enter the first number\"))\n",
    "num2 = int(input(\"Enter the second number\"))\n",
    "\n",
    "def addnum(num1,num2):\n",
    "    return  num1+num2\n",
    "\n",
    "def subnum(num1,num2):\n",
    "    return num1-num2\n",
    "    \n",
    "def mulnum(num1,num2):\n",
    "    return num1*num2\n",
    "    \n",
    "def divnum(num1,num2):\n",
    "    return  num1/num2\n",
    "    \n",
    "def pownum(num1,num2):\n",
    "    return  pow(num1,num2)\n",
    "   \n",
    "\n",
    "ans = input(\"Enter the keyword {add, sub, mul, div, pow}:pow\")\n",
    "if ans == 'add':\n",
    "    print(\"Addition is :\",addnum(num1,num2))\n",
    "elif ans == 'sub':\n",
    "    print(\"Subtraction is :\",subnum(num1,num2))\n",
    "elif ans == 'mul':\n",
    "    print(\"MUltiplication is :\",mulnum(num1,num2))\n",
    "elif ans == 'div':\n",
    "    print(\"Division is :\",divnum(num1,num2))\n",
    "else:\n",
    "    print(\"Power  is :\",pownum(num1,num2))"
   ]
  },
  {
   "cell_type": "code",
   "execution_count": 16,
   "metadata": {},
   "outputs": [],
   "source": [
    "## CODE HERE"
   ]
  },
  {
   "cell_type": "markdown",
   "metadata": {},
   "source": [
    "#### You are given a string.Your task is to count the frequency of letters of the string and print the letters in descending order of frequency.\n",
    "\n",
    "#### If the following string is given as input to the program:\n",
    "\n",
    "### aabbbccde\n",
    "\n",
    "#### Then, the output of the program should be:\n",
    "\n",
    "#### b 3 a 2 c 2 d 1 e 1"
   ]
  },
  {
   "cell_type": "code",
   "execution_count": 17,
   "metadata": {},
   "outputs": [
    {
     "name": "stdout",
     "output_type": "stream",
     "text": [
      "b\n",
      "b 1 "
     ]
    }
   ],
   "source": [
    "# CODE HERE\n",
    "word = input()\n",
    "uniq = list(set(word))\n",
    "for i in uniq:\n",
    "    print(i,word.count(i),end= \" \")\n",
    "    "
   ]
  },
  {
   "cell_type": "markdown",
   "metadata": {},
   "source": [
    "### Write a Python program that accepts a string and calculate the number of digits and letters.\n",
    "- Input\n",
    "\n",
    "    - Hello321Bye360\n",
    "- Output\n",
    "\n",
    "    - Digit - 6\n",
    "\n",
    "    - Letter - 8"
   ]
  },
  {
   "cell_type": "code",
   "execution_count": 18,
   "metadata": {},
   "outputs": [
    {
     "name": "stdout",
     "output_type": "stream",
     "text": [
      "ENter the text: Achal123A\n",
      "Digit =  3\n",
      "Letter=  6\n"
     ]
    }
   ],
   "source": [
    "# CODE HERE\n",
    "word = input(\"ENter the text: \")\n",
    "digit = 0\n",
    "letter = 0\n",
    "for i in word:\n",
    "    if i.isdigit():\n",
    "        digit = digit+1\n",
    "    else:\n",
    "        letter += 1\n",
    "        \n",
    "print(\"Digit = \",digit)\n",
    "print(\"Letter= \",letter)\n",
    "\n"
   ]
  },
  {
   "cell_type": "markdown",
   "metadata": {},
   "source": [
    "### With a given tuple (1,2,3,4,5,6,7,8,9,10), write a program to print the first half values in one line and the last half values in one line."
   ]
  },
  {
   "cell_type": "code",
   "execution_count": 19,
   "metadata": {},
   "outputs": [
    {
     "name": "stdout",
     "output_type": "stream",
     "text": [
      "5\n",
      "(1, 2, 3, 4, 5)\n",
      "(6, 7, 8, 9, 10)\n"
     ]
    }
   ],
   "source": [
    "# # METHOD - 1\n",
    "tp1 = (1,2,3,4,5,6,7,8,9,10)\n",
    "# for i in range(0,5):\n",
    "#     print(tp1[i],end=\" \")\n",
    "# print(\"\\n\")\n",
    "# for i in range(5,10):\n",
    "#     print(tp1[i],end=\" \")\n",
    "    \n",
    "# or\n",
    "    \n",
    "length = int(len(tp1)/2)\n",
    "print(length)\n",
    "\n",
    "print(tp1[:5])\n",
    "print(tp1[-5:])\n"
   ]
  },
  {
   "cell_type": "code",
   "execution_count": 20,
   "metadata": {},
   "outputs": [
    {
     "name": "stdout",
     "output_type": "stream",
     "text": [
      "(1, 2, 3, 4, 5) (1, 2, 3, 4, 5)\n"
     ]
    }
   ],
   "source": [
    "# METHOD - 2\n",
    "print(tp1[:5],tp1[:-5])"
   ]
  },
  {
   "cell_type": "code",
   "execution_count": 21,
   "metadata": {},
   "outputs": [
    {
     "name": "stdout",
     "output_type": "stream",
     "text": [
      "[1, 2, 3, 4, 5]\n",
      "[6, 7, 8, 9, 10]\n"
     ]
    }
   ],
   "source": [
    "# METHOD - 3\n",
    "lst1,lst2 = [],[]\n",
    "\n",
    "for i in range(0,5):\n",
    "    lst1.append(tp1[i])\n",
    "\n",
    "for i in range(5,10):\n",
    "    lst2.append(tp1[i])\n",
    "\n",
    "print(lst1)\n",
    "print(lst2)"
   ]
  },
  {
   "cell_type": "code",
   "execution_count": 22,
   "metadata": {},
   "outputs": [
    {
     "name": "stdout",
     "output_type": "stream",
     "text": [
      "[1, 2, 3, 4, 5]\n",
      "[6, 7, 8, 9, 10]\n"
     ]
    }
   ],
   "source": [
    "li =list(tp1)\n",
    "print(li[:5])\n",
    "print(li[-5:])"
   ]
  },
  {
   "cell_type": "code",
   "execution_count": null,
   "metadata": {},
   "outputs": [],
   "source": []
  },
  {
   "cell_type": "markdown",
   "metadata": {},
   "source": [
    "### Write a program to generate and print another tuple whose values are even numbers in the given tuple (1,2,3,4,5,6,7,8,9,10)"
   ]
  },
  {
   "cell_type": "code",
   "execution_count": 23,
   "metadata": {},
   "outputs": [
    {
     "name": "stdout",
     "output_type": "stream",
     "text": [
      "(2, 4, 6, 8, 10)\n"
     ]
    }
   ],
   "source": [
    "#method 1\n",
    "tuplst = []\n",
    "for i in tp1:\n",
    "    if i % 2 ==0:\n",
    "        tuplst.append(i)\n",
    "        \n",
    "print(tuple(tuplst))"
   ]
  },
  {
   "cell_type": "code",
   "execution_count": 24,
   "metadata": {},
   "outputs": [
    {
     "name": "stdout",
     "output_type": "stream",
     "text": [
      "(2, 4, 6, 8, 10)\n"
     ]
    }
   ],
   "source": [
    "#method 2\n",
    "print(tuple(i for i in tp1 if i%2==0))"
   ]
  },
  {
   "cell_type": "markdown",
   "metadata": {},
   "source": [
    "### Write a program which accepts a string as input to print \"Yes\" if the string is \"yes\" or \"YES\" or \"Yes\", otherwise print \"No\""
   ]
  },
  {
   "cell_type": "code",
   "execution_count": 25,
   "metadata": {},
   "outputs": [
    {
     "name": "stdout",
     "output_type": "stream",
     "text": [
      "Please type something. --> \n",
      "NO\n"
     ]
    }
   ],
   "source": [
    "#method 1\n",
    "text = input(\"Please type something. --> \")\n",
    "if text ==\"yes\" or text==\"YES\":\n",
    "    print(\"Yes\")\n",
    "else:\n",
    "    print(\"NO\")\n"
   ]
  },
  {
   "cell_type": "code",
   "execution_count": 26,
   "metadata": {},
   "outputs": [
    {
     "name": "stdout",
     "output_type": "stream",
     "text": [
      "no\n"
     ]
    }
   ],
   "source": [
    "#method 2\n",
    "print(\"Yes\" if text ==\"yes\" or text==\"YES\" else \"no\")"
   ]
  },
  {
   "cell_type": "markdown",
   "metadata": {},
   "source": [
    "### Please write a program to generate a list with 5 random numbers between 100 and 200 inclusive."
   ]
  },
  {
   "cell_type": "code",
   "execution_count": 27,
   "metadata": {},
   "outputs": [
    {
     "name": "stdout",
     "output_type": "stream",
     "text": [
      "[195, 153, 136, 133, 126]\n"
     ]
    }
   ],
   "source": [
    "import random\n",
    "lst = []\n",
    "for i in range(0,5):\n",
    "    lst.append(random.randint(100,200))\n",
    "    \n",
    "print(lst)\n"
   ]
  },
  {
   "cell_type": "markdown",
   "metadata": {},
   "source": [
    "### Please generate a random float where the value is between 5 and 95 using Python module."
   ]
  },
  {
   "cell_type": "code",
   "execution_count": 28,
   "metadata": {},
   "outputs": [
    {
     "name": "stdout",
     "output_type": "stream",
     "text": [
      "68.11219976799919\n"
     ]
    }
   ],
   "source": [
    "import random\n",
    "print(random.uniform(5, 96))"
   ]
  },
  {
   "cell_type": "markdown",
   "metadata": {},
   "source": [
    "### [1,1,1,1,3,3,4,4,4,5,6,7,8,8,8]\n",
    "#### 1. from the above list print the uniques values\n",
    "#### 2. count how many times each number exist\n",
    "#### 3. Print the number which is occured more number of times"
   ]
  },
  {
   "cell_type": "code",
   "execution_count": 29,
   "metadata": {},
   "outputs": [
    {
     "name": "stdout",
     "output_type": "stream",
     "text": [
      "uniques values [1, 3, 4, 5, 6, 7, 8]\n"
     ]
    }
   ],
   "source": [
    "#task1\n",
    "lst1 = [1,1,1,1,3,3,4,4,4,5,6,7,8,8,8]\n",
    "uniq = list(set(lst1))\n",
    "print(\"uniques values\",uniq)"
   ]
  },
  {
   "cell_type": "code",
   "execution_count": 30,
   "metadata": {},
   "outputs": [
    {
     "name": "stdout",
     "output_type": "stream",
     "text": [
      "Number = count\n",
      "1 = 4\n",
      "3 = 2\n",
      "4 = 3\n",
      "5 = 1\n",
      "6 = 1\n",
      "7 = 1\n",
      "8 = 3\n"
     ]
    }
   ],
   "source": [
    "#task2\n",
    "print(\"Number = count\")\n",
    "for i in uniq:\n",
    "    print(i,\"=\",lst1.count(i))"
   ]
  },
  {
   "cell_type": "code",
   "execution_count": 31,
   "metadata": {},
   "outputs": [
    {
     "name": "stdout",
     "output_type": "stream",
     "text": [
      "1\n",
      "3\n",
      "4\n",
      "8\n"
     ]
    }
   ],
   "source": [
    "#task3\n",
    "for i in uniq:\n",
    "    if lst1.count(i) > 1:\n",
    "        print(i)"
   ]
  },
  {
   "cell_type": "code",
   "execution_count": null,
   "metadata": {},
   "outputs": [],
   "source": []
  }
 ],
 "metadata": {
  "kernelspec": {
   "display_name": "Python 3",
   "language": "python",
   "name": "python3"
  },
  "language_info": {
   "codemirror_mode": {
    "name": "ipython",
    "version": 3
   },
   "file_extension": ".py",
   "mimetype": "text/x-python",
   "name": "python",
   "nbconvert_exporter": "python",
   "pygments_lexer": "ipython3",
   "version": "3.8.5"
  }
 },
 "nbformat": 4,
 "nbformat_minor": 2
}
