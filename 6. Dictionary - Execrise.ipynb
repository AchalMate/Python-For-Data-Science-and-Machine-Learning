{
 "cells": [
  {
   "cell_type": "markdown",
   "metadata": {},
   "source": [
    "###  Dictionary"
   ]
  },
  {
   "cell_type": "markdown",
   "metadata": {},
   "source": [
    "Create Dictionary for following information as \"person1\":\n",
    "   - Name = Srikanth\n",
    "   - Gender= Male\n",
    "   - Occupation = Data Scientist\n",
    "   - Location  = Nizampet, Hyderabad"
   ]
  },
  {
   "cell_type": "code",
   "execution_count": 1,
   "metadata": {},
   "outputs": [],
   "source": [
    "# CODE HERE"
   ]
  },
  {
   "cell_type": "code",
   "execution_count": 2,
   "metadata": {},
   "outputs": [
    {
     "name": "stdout",
     "output_type": "stream",
     "text": [
      "{'Name': 'Srikanth', 'Gender': 'Male', 'Location': 'Nizampet, Hyderabad', 'Occupation': 'Data Scientist'}\n"
     ]
    }
   ],
   "source": [
    "person1= {'Name': 'Srikanth','Gender': 'Male','Location': 'Nizampet, Hyderabad','Occupation': 'Data Scientist'}\n",
    "print(person1)"
   ]
  },
  {
   "cell_type": "markdown",
   "metadata": {},
   "source": [
    "> print keys in person1 as a list"
   ]
  },
  {
   "cell_type": "code",
   "execution_count": 3,
   "metadata": {},
   "outputs": [],
   "source": [
    "# CODE HERE"
   ]
  },
  {
   "cell_type": "code",
   "execution_count": 4,
   "metadata": {},
   "outputs": [
    {
     "name": "stdout",
     "output_type": "stream",
     "text": [
      "dict_keys(['Name', 'Gender', 'Location', 'Occupation'])\n"
     ]
    }
   ],
   "source": [
    "person1keys = person1.keys()\n",
    "print(person1keys)"
   ]
  },
  {
   "cell_type": "markdown",
   "metadata": {},
   "source": [
    "> Srikanth age is 27. Assign his age in person1 as key \"Age\""
   ]
  },
  {
   "cell_type": "code",
   "execution_count": 5,
   "metadata": {},
   "outputs": [],
   "source": [
    "# CODE HERE"
   ]
  },
  {
   "cell_type": "code",
   "execution_count": 6,
   "metadata": {},
   "outputs": [],
   "source": [
    "person1['Age']= 27"
   ]
  },
  {
   "cell_type": "code",
   "execution_count": 7,
   "metadata": {},
   "outputs": [
    {
     "data": {
      "text/plain": [
       "{'Name': 'Srikanth',\n",
       " 'Gender': 'Male',\n",
       " 'Location': 'Nizampet, Hyderabad',\n",
       " 'Occupation': 'Data Scientist',\n",
       " 'Age': 27}"
      ]
     },
     "execution_count": 7,
     "metadata": {},
     "output_type": "execute_result"
    }
   ],
   "source": [
    "person1"
   ]
  },
  {
   "cell_type": "markdown",
   "metadata": {},
   "source": [
    "> Remove Location in person1"
   ]
  },
  {
   "cell_type": "code",
   "execution_count": 8,
   "metadata": {},
   "outputs": [],
   "source": [
    "# CODE HERE"
   ]
  },
  {
   "cell_type": "code",
   "execution_count": 9,
   "metadata": {},
   "outputs": [
    {
     "name": "stdout",
     "output_type": "stream",
     "text": [
      "{'Name': 'Srikanth', 'Gender': 'Male', 'Occupation': 'Data Scientist', 'Age': 27}\n"
     ]
    }
   ],
   "source": [
    "del person1['Location']\n",
    "print(person1)"
   ]
  },
  {
   "cell_type": "markdown",
   "metadata": {},
   "source": [
    "> Create dictionary of person2 with\n",
    "- Name  = Raghu Ram\n",
    "- Gender = Male\n",
    "- Age  = 25\n",
    "- Occupation = Data Scienctist"
   ]
  },
  {
   "cell_type": "code",
   "execution_count": 10,
   "metadata": {},
   "outputs": [],
   "source": [
    "# CODE HERE"
   ]
  },
  {
   "cell_type": "code",
   "execution_count": 11,
   "metadata": {},
   "outputs": [],
   "source": [
    "person2={'Name': 'Raghu Ram','Gender': 'Male','Age': 25,'Occupation': 'Data Scientist'}"
   ]
  },
  {
   "cell_type": "code",
   "execution_count": 12,
   "metadata": {},
   "outputs": [
    {
     "name": "stdout",
     "output_type": "stream",
     "text": [
      "{'Name': 'Raghu Ram', 'Gender': 'Male', 'Age': 25, 'Occupation': 'Data Scientist'}\n"
     ]
    }
   ],
   "source": [
    "print(person2)"
   ]
  },
  {
   "cell_type": "markdown",
   "metadata": {},
   "source": [
    "> Append values on Person1 and Person2"
   ]
  },
  {
   "cell_type": "code",
   "execution_count": 13,
   "metadata": {},
   "outputs": [
    {
     "name": "stdout",
     "output_type": "stream",
     "text": [
      "==================== person1 ====================\n",
      "{'Name': 'Srikanth', 'Gender': 'Male', 'Occupation': 'Data Scientist', 'Age': 27}\n",
      "==================== person2 ====================\n",
      "{'Name': 'Raghu Ram', 'Gender': 'Male', 'Age': 25, 'Occupation': 'Data Scientist'}\n"
     ]
    }
   ],
   "source": [
    "print('='*20,'person1','='*20)\n",
    "print(person1)\n",
    "print('='*20,'person2','='*20)\n",
    "print(person2)"
   ]
  },
  {
   "cell_type": "code",
   "execution_count": 14,
   "metadata": {},
   "outputs": [
    {
     "name": "stdout",
     "output_type": "stream",
     "text": [
      "==================== person1 ====================\n",
      "{'Name': 'Srikanth', 'Gender': 'Male', 'Occupation': 'Data Scientist', 'Age': 27, 'Location': 'Nizampet, Hyderabad'}\n",
      "==================== person2 ====================\n",
      "{'Name': 'Raghu Ram', 'Gender': 'Male', 'Age': 25, 'Occupation': 'Data Scientist', 'Location': 'Nizampet, Hyderabad'}\n"
     ]
    }
   ],
   "source": [
    "# CODE HERE to append\n",
    "person1['Location']= 'Nizampet, Hyderabad'\n",
    "person2['Location']= 'Nizampet, Hyderabad'\n",
    "print('='*20,'person1','='*20)\n",
    "print(person1)\n",
    "print('='*20,'person2','='*20)\n",
    "print(person2)"
   ]
  },
  {
   "cell_type": "code",
   "execution_count": 15,
   "metadata": {},
   "outputs": [
    {
     "name": "stdout",
     "output_type": "stream",
     "text": [
      "{'Name': ['Raghu Ram', 'Srikanth'], 'Gender': ['Male', 'Male'], 'Occupation': ['Data Scientist', 'Data Scientist'], 'Age': [25, 27], 'Location': ['Nizampet, Hyderabad', 'Nizampet, Hyderabad']}\n",
      "['Raghu Ram', 'Srikanth']\n"
     ]
    }
   ],
   "source": [
    "person3 = {**person1,**person2}\n",
    "for key,value in person3.items():\n",
    "    if key in person1 and key in person2:\n",
    "        person3[key]=[value,person1[key]]\n",
    "        \n",
    "print(person3)\n",
    "print(person3['Name'])"
   ]
  },
  {
   "cell_type": "markdown",
   "metadata": {},
   "source": [
    "# create a dictionary\n",
    "#### remove the elements from that dictionary using different methods\n",
    "{1: 1, 2: 4, 3: 9, 4: 16, 5: 25,6:36,7:49}"
   ]
  },
  {
   "cell_type": "code",
   "execution_count": 16,
   "metadata": {},
   "outputs": [
    {
     "name": "stdout",
     "output_type": "stream",
     "text": [
      "{1: 1, 2: 4, 3: 9, 4: 16, 5: 25, 6: 36, 7: 49}\n",
      "{1: 1, 3: 9, 4: 16, 5: 25, 6: 36, 7: 49}\n",
      "{1: 1, 3: 9, 5: 25, 6: 36, 7: 49}\n",
      "{1: 1, 3: 9, 5: 25, 6: 36}\n"
     ]
    }
   ],
   "source": [
    "# CODE HERE\n",
    "dict1 = {1: 1, 2: 4, 3: 9, 4: 16, 5: 25,6:36,7:49}\n",
    "print(dict1)\n",
    "\n",
    "del dict1[2]\n",
    "print(dict1)\n",
    "\n",
    "dict1.pop(4)\n",
    "print(dict1)\n",
    "\n",
    "dict1.popitem()\n",
    "print(dict1)"
   ]
  },
  {
   "cell_type": "markdown",
   "metadata": {},
   "source": [
    "{0: 0, 1: 1, 3: 9, 5: 25, 7: 49, 9: 81}\n",
    "### print the values from the above dictionary in descending order"
   ]
  },
  {
   "cell_type": "code",
   "execution_count": 17,
   "metadata": {},
   "outputs": [
    {
     "name": "stdout",
     "output_type": "stream",
     "text": [
      "{0: 0, 1: 1, 3: 9, 5: 25, 7: 49, 9: 81}\n",
      "{9: 81, 7: 49, 5: 25, 3: 9, 1: 1, 0: 0}\n"
     ]
    }
   ],
   "source": [
    "# CODE HERE\n",
    "dict2 = {0: 0, 1: 1, 3: 9, 5: 25, 7: 49, 9: 81}\n",
    "print(dict2)\n",
    "\n",
    "\n",
    "l=list(dict2.items())\n",
    "l.sort(reverse=True) \n",
    "dict2 = dict(l)\n",
    "print(dict2)"
   ]
  },
  {
   "cell_type": "markdown",
   "metadata": {},
   "source": [
    "database = {'ram':1234,'raghu':5678,'kanav':1357}\n",
    "## Tasks :-\n",
    "### 1. if the username and password matches print hello username\n",
    "### 2. if the username and password doesnot match, ask, you want me to add into the database\n",
    "### 3. show the updated database list\n"
   ]
  },
  {
   "cell_type": "code",
   "execution_count": 18,
   "metadata": {},
   "outputs": [
    {
     "name": "stdout",
     "output_type": "stream",
     "text": [
      "Enter the usernameram\n",
      "Enter the Password123\n",
      "Invalid credentails\n",
      "\n",
      "Database =  {'ram': 1234, 'raghu': 5678, 'kanav': 1357}\n"
     ]
    }
   ],
   "source": [
    "# CODE HERE\n",
    "database = {'ram':1234,'raghu':5678,'kanav':1357}\n",
    "username = input(\"Enter the username\")\n",
    "password = int(input(\"Enter the Password\"))\n",
    "if password in database.values() and username in database.keys():\n",
    "    \n",
    "    if password == database.get(username):\n",
    "        print(\"hello world\")\n",
    "    else:\n",
    "        print(\"Username and password no found\\nDo you want to add it in login detail into database[y/n]\\n\\n\")\n",
    "        addme = input(\"Enter your choice[y/n]\\n\")\n",
    "        if addme == \"yes\":\n",
    "            database[username] = password\n",
    "            print(\"Login details add successfully\\nUsername =\",username,\"\\nPassword =\",password)\n",
    "        elif addme == 'no':\n",
    "            print('Thank you')\n",
    "else:\n",
    "    print(\"Invalid credentails\")\n",
    "            \n",
    "print(\"\\nDatabase = \",database)\n",
    "\n",
    "\n"
   ]
  },
  {
   "cell_type": "markdown",
   "metadata": {},
   "source": [
    "### merge the below 3 dictionaries\n",
    "dict1 = { 'a': 1, 'b': 2 }\n",
    "dict2 = { 'b': 3, 'c': 4 }\n",
    "dict3 = { 'c': 5, 'd': 6 }"
   ]
  },
  {
   "cell_type": "code",
   "execution_count": 19,
   "metadata": {},
   "outputs": [],
   "source": [
    "# CODE HERE"
   ]
  },
  {
   "cell_type": "code",
   "execution_count": 20,
   "metadata": {},
   "outputs": [
    {
     "name": "stdout",
     "output_type": "stream",
     "text": [
      "{'a': 1, 'b': 3, 'c': 5, 'd': 6}\n"
     ]
    }
   ],
   "source": [
    "\n",
    "dict3 = { 'a': 1, 'b': 2 }\n",
    "dict4 = { 'b': 3, 'c': 4 }\n",
    "dict5 = { 'c': 5, 'd': 6 }\n",
    "\n",
    "dict3.update(dict4)\n",
    "dict3.update(dict5)\n",
    "print(dict3)\n"
   ]
  },
  {
   "cell_type": "code",
   "execution_count": null,
   "metadata": {},
   "outputs": [],
   "source": []
  },
  {
   "cell_type": "code",
   "execution_count": null,
   "metadata": {},
   "outputs": [],
   "source": []
  }
 ],
 "metadata": {
  "kernelspec": {
   "display_name": "Python 3",
   "language": "python",
   "name": "python3"
  },
  "language_info": {
   "codemirror_mode": {
    "name": "ipython",
    "version": 3
   },
   "file_extension": ".py",
   "mimetype": "text/x-python",
   "name": "python",
   "nbconvert_exporter": "python",
   "pygments_lexer": "ipython3",
   "version": "3.8.5"
  }
 },
 "nbformat": 4,
 "nbformat_minor": 2
}
