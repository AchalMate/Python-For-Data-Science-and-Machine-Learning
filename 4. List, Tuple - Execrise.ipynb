{
 "cells": [
  {
   "cell_type": "markdown",
   "metadata": {},
   "source": [
    "###  LIST"
   ]
  },
  {
   "cell_type": "markdown",
   "metadata": {},
   "source": [
    "Create a list of numbers\n",
    "> nums = [1,2,3,4] "
   ]
  },
  {
   "cell_type": "code",
   "execution_count": 1,
   "metadata": {},
   "outputs": [
    {
     "name": "stdout",
     "output_type": "stream",
     "text": [
      "[1, 2, 3, 4]\n"
     ]
    }
   ],
   "source": [
    "lst = [1, 2, 3, 4]\n",
    "print(lst)"
   ]
  },
  {
   "cell_type": "markdown",
   "metadata": {},
   "source": [
    "**1. Remove number \"3\" in a list**"
   ]
  },
  {
   "cell_type": "code",
   "execution_count": 2,
   "metadata": {},
   "outputs": [
    {
     "name": "stdout",
     "output_type": "stream",
     "text": [
      "[1, 2, 3, 4]\n",
      "[1, 2, 4]\n"
     ]
    }
   ],
   "source": [
    "# Method 1\n",
    "lst1= lst.copy()\n",
    "print(lst1)\n",
    "lst1.remove(3)\n",
    "print(lst1)\n"
   ]
  },
  {
   "cell_type": "code",
   "execution_count": 3,
   "metadata": {},
   "outputs": [
    {
     "name": "stdout",
     "output_type": "stream",
     "text": [
      "[1, 2, 3, 4]\n",
      "[1, 2, 4]\n"
     ]
    }
   ],
   "source": [
    "# Method 2\n",
    "lst2= lst.copy()\n",
    "print(lst2)\n",
    "lst2.pop(2)\n",
    "print(lst2)\n"
   ]
  },
  {
   "cell_type": "code",
   "execution_count": 4,
   "metadata": {},
   "outputs": [
    {
     "name": "stdout",
     "output_type": "stream",
     "text": [
      "[1, 2, 3, 4]\n"
     ]
    },
    {
     "data": {
      "text/plain": [
       "[1, 2, 4]"
      ]
     },
     "execution_count": 4,
     "metadata": {},
     "output_type": "execute_result"
    }
   ],
   "source": [
    "# Method 3\n",
    "lst3=lst.copy()\n",
    "print(lst3)\n",
    "del lst3[2]\n",
    "lst3"
   ]
  },
  {
   "cell_type": "markdown",
   "metadata": {},
   "source": [
    "**Remove last element in the list**\n",
    "> hint: remove 4 (L.pop)"
   ]
  },
  {
   "cell_type": "code",
   "execution_count": 5,
   "metadata": {},
   "outputs": [
    {
     "data": {
      "text/plain": [
       "4"
      ]
     },
     "execution_count": 5,
     "metadata": {},
     "output_type": "execute_result"
    }
   ],
   "source": [
    "lst1.pop()"
   ]
  },
  {
   "cell_type": "markdown",
   "metadata": {},
   "source": [
    "**Check nums.pop(0) ** \n",
    "> write you comment after executing this command"
   ]
  },
  {
   "cell_type": "code",
   "execution_count": 6,
   "metadata": {},
   "outputs": [
    {
     "data": {
      "text/plain": [
       "1"
      ]
     },
     "execution_count": 6,
     "metadata": {},
     "output_type": "execute_result"
    }
   ],
   "source": [
    "# removes zeroth position\n",
    "\n",
    "lst1.pop(0)"
   ]
  },
  {
   "cell_type": "markdown",
   "metadata": {},
   "source": [
    " **Extent** list (3,4)\n",
    " > **hint: nums.extend([3,4])"
   ]
  },
  {
   "cell_type": "code",
   "execution_count": 7,
   "metadata": {},
   "outputs": [
    {
     "name": "stdout",
     "output_type": "stream",
     "text": [
      "[2, 3]\n",
      "[2, 3, 4]\n"
     ]
    }
   ],
   "source": [
    "# Method1\n",
    "lst1.append(3)\n",
    "print(lst1)\n",
    "lst1.append(4)\n",
    "print(lst1)"
   ]
  },
  {
   "cell_type": "code",
   "execution_count": 8,
   "metadata": {},
   "outputs": [
    {
     "name": "stdout",
     "output_type": "stream",
     "text": [
      "[2, 3, 4]\n"
     ]
    }
   ],
   "source": [
    "#Method 2\n",
    "lst2 = [2]\n",
    "lst2[1:2]=[3,4]\n",
    "print(lst2)\n",
    "\n"
   ]
  },
  {
   "cell_type": "code",
   "execution_count": 9,
   "metadata": {},
   "outputs": [
    {
     "name": "stdout",
     "output_type": "stream",
     "text": [
      "[2, 3, 4]\n"
     ]
    }
   ],
   "source": [
    "#method 3\n",
    "lst3 = [2]\n",
    "lst3.insert(2,3)\n",
    "lst3.insert(3,4)\n",
    "print(lst3)"
   ]
  },
  {
   "cell_type": "markdown",
   "metadata": {},
   "source": [
    "**Insert number \"1\" in 0th position**"
   ]
  },
  {
   "cell_type": "code",
   "execution_count": 10,
   "metadata": {},
   "outputs": [
    {
     "name": "stdout",
     "output_type": "stream",
     "text": [
      "[1, 2, 3, 4]\n"
     ]
    }
   ],
   "source": [
    "lst1.insert(0,1)\n",
    "print(lst1)"
   ]
  },
  {
   "cell_type": "markdown",
   "metadata": {},
   "source": [
    "**Insert \"two-and-half\" in 2nd position**"
   ]
  },
  {
   "cell_type": "code",
   "execution_count": 11,
   "metadata": {},
   "outputs": [
    {
     "name": "stdout",
     "output_type": "stream",
     "text": [
      "[1, 2, 'two-and-half', 3, 4]\n"
     ]
    }
   ],
   "source": [
    "lst1.insert(2,'two-and-half')\n",
    "print(lst1)"
   ]
  },
  {
   "cell_type": "code",
   "execution_count": null,
   "metadata": {},
   "outputs": [],
   "source": []
  },
  {
   "cell_type": "markdown",
   "metadata": {},
   "source": [
    "**2. Create a list with name plist with phrase = \"Don't panic!\"**"
   ]
  },
  {
   "cell_type": "code",
   "execution_count": 12,
   "metadata": {},
   "outputs": [
    {
     "name": "stdout",
     "output_type": "stream",
     "text": [
      "Don't panic!\n"
     ]
    }
   ],
   "source": [
    "str = \"Don't panic!\"\n",
    "print(str)\n"
   ]
  },
  {
   "cell_type": "markdown",
   "metadata": {},
   "source": [
    "**convert into list**"
   ]
  },
  {
   "cell_type": "code",
   "execution_count": 13,
   "metadata": {},
   "outputs": [
    {
     "name": "stdout",
     "output_type": "stream",
     "text": [
      "[\"Don't panic!\"]\n"
     ]
    }
   ],
   "source": [
    "#method 1 >> input as a string\n",
    "plist =[str]\n",
    "print(plist)"
   ]
  },
  {
   "cell_type": "code",
   "execution_count": 14,
   "metadata": {},
   "outputs": [
    {
     "name": "stdout",
     "output_type": "stream",
     "text": [
      "['D', 'o', 'n', \"'\", 't', ' ', 'p', 'a', 'n', 'i', 'c', '!']\n"
     ]
    }
   ],
   "source": [
    "#method 2 \n",
    "plist =list(str)\n",
    "print(plist)"
   ]
  },
  {
   "cell_type": "code",
   "execution_count": 15,
   "metadata": {},
   "outputs": [
    {
     "name": "stdout",
     "output_type": "stream",
     "text": [
      "['D', 'o', 'n', \"'\", 't', ' ', 'p', 'a', 'n', 'i', 'c', '!']\n"
     ]
    }
   ],
   "source": [
    "#method 3\n",
    "plistcopy=[]\n",
    "plistcopy[::1]=str\n",
    "print(plistcopy)"
   ]
  },
  {
   "cell_type": "markdown",
   "metadata": {},
   "source": [
    "Remove ** '** and **!** in the list"
   ]
  },
  {
   "cell_type": "code",
   "execution_count": 16,
   "metadata": {},
   "outputs": [
    {
     "name": "stdout",
     "output_type": "stream",
     "text": [
      "['D', 'o', 'n', 't', ' ', 'p', 'a', 'n', 'i', 'c']\n"
     ]
    }
   ],
   "source": [
    "#method 1\n",
    "plist.remove( \"'\")\n",
    "plist.remove( \"!\")\n",
    "\n",
    "print(plist)"
   ]
  },
  {
   "cell_type": "code",
   "execution_count": 17,
   "metadata": {},
   "outputs": [
    {
     "name": "stdout",
     "output_type": "stream",
     "text": [
      "['D', 'o', 'n', \"'\", ' ', 'p', 'a', 'n', 'i', 'c', '!']\n"
     ]
    }
   ],
   "source": [
    "#method 2\n",
    "del plistcopy[4]\n",
    "print(plistcopy)"
   ]
  },
  {
   "cell_type": "code",
   "execution_count": 18,
   "metadata": {},
   "outputs": [
    {
     "name": "stdout",
     "output_type": "stream",
     "text": [
      "['D', 'o', 'n', \"'\", 't', ' ', 'p', 'a', 'n', 'i', 'c', '!']\n"
     ]
    },
    {
     "data": {
      "text/plain": [
       "['D', 'o', 'n', 't', ' ', 'p', 'a', 'n', 'c', '!']"
      ]
     },
     "execution_count": 18,
     "metadata": {},
     "output_type": "execute_result"
    }
   ],
   "source": [
    "#method 3\n",
    "str = \"Don't panic!\"\n",
    "plist3 =list(str)\n",
    "print(plist3)\n",
    "for i in plist3:\n",
    "    if i ==\"'\" or i =='i':\n",
    "        plist3.remove(i)\n",
    "        \n",
    "plist3"
   ]
  },
  {
   "cell_type": "markdown",
   "metadata": {},
   "source": [
    "**Remove \"p\" , \"a\", \"n\",\"D\" and extend the list at the last**"
   ]
  },
  {
   "cell_type": "code",
   "execution_count": 19,
   "metadata": {},
   "outputs": [
    {
     "name": "stdout",
     "output_type": "stream",
     "text": [
      "item to be deleted and extended ['p', 'a', 'n', 'D']\n"
     ]
    },
    {
     "data": {
      "text/plain": [
       "['o', 't', ' ', 'a', 'c', '!', 'p', 'a', 'n', 'D']"
      ]
     },
     "execution_count": 19,
     "metadata": {},
     "output_type": "execute_result"
    }
   ],
   "source": [
    "delete_list = ['p','a','n','D']\n",
    "print('item to be deleted and extended',delete_list)\n",
    "\n",
    "for i in plist3:\n",
    "    if i in delete_list:\n",
    "        plist3.remove(i)\n",
    "plist3.extend(delete_list)\n",
    "plist3"
   ]
  },
  {
   "cell_type": "markdown",
   "metadata": {},
   "source": [
    "**Extract last 4 element in plist and append \"a\" and name as plist1**"
   ]
  },
  {
   "cell_type": "markdown",
   "metadata": {},
   "source": [
    "- **Extract list**"
   ]
  },
  {
   "cell_type": "code",
   "execution_count": 20,
   "metadata": {},
   "outputs": [
    {
     "data": {
      "text/plain": [
       "['p', 'a', 'n', 'D']"
      ]
     },
     "execution_count": 20,
     "metadata": {},
     "output_type": "execute_result"
    }
   ],
   "source": [
    "last_four = plist3[-4:]\n",
    "last_four\n"
   ]
  },
  {
   "cell_type": "markdown",
   "metadata": {},
   "source": [
    "- **append list**"
   ]
  },
  {
   "cell_type": "code",
   "execution_count": 21,
   "metadata": {},
   "outputs": [],
   "source": [
    "plist3.append('a')"
   ]
  },
  {
   "cell_type": "code",
   "execution_count": 22,
   "metadata": {},
   "outputs": [
    {
     "name": "stdout",
     "output_type": "stream",
     "text": [
      "['o', 't', ' ', 'a', 'c', '!', 'p', 'a', 'n', 'D', 'a']\n"
     ]
    }
   ],
   "source": [
    "print(plist3)"
   ]
  },
  {
   "cell_type": "markdown",
   "metadata": {},
   "source": [
    "- **Join list**"
   ]
  },
  {
   "cell_type": "code",
   "execution_count": 25,
   "metadata": {},
   "outputs": [
    {
     "name": "stdout",
     "output_type": "stream",
     "text": [
      "ot ac!panDa\n"
     ]
    }
   ],
   "source": [
    "joinllst = \"\".join(plist3)\n",
    "print(joinllst)"
   ]
  },
  {
   "cell_type": "markdown",
   "metadata": {},
   "source": [
    "###  Tuples"
   ]
  },
  {
   "cell_type": "markdown",
   "metadata": {},
   "source": [
    "***Create a tuples for numbers 31,24,35,85 as nums*** "
   ]
  },
  {
   "cell_type": "code",
   "execution_count": 26,
   "metadata": {},
   "outputs": [],
   "source": [
    "# CODE HERE"
   ]
  },
  {
   "cell_type": "code",
   "execution_count": 27,
   "metadata": {},
   "outputs": [
    {
     "name": "stdout",
     "output_type": "stream",
     "text": [
      " data type  <class 'tuple'>\n",
      "(31, 24, 35, 85)\n"
     ]
    }
   ],
   "source": [
    "tuple1 = (31,24,35,85)\n",
    "print(\" data type \", type(tuple1))\n",
    "print(tuple1)"
   ]
  },
  {
   "cell_type": "markdown",
   "metadata": {},
   "source": [
    "**Remove number \"35\" in a tuple**\n",
    "\n",
    "*Hint:* Convert into list"
   ]
  },
  {
   "cell_type": "code",
   "execution_count": 28,
   "metadata": {},
   "outputs": [],
   "source": [
    "# CODE HERE"
   ]
  },
  {
   "cell_type": "code",
   "execution_count": 29,
   "metadata": {},
   "outputs": [
    {
     "name": "stdout",
     "output_type": "stream",
     "text": [
      "(31, 24, 35, 85)\n",
      "(31, 24, 85)\n"
     ]
    }
   ],
   "source": [
    "print(tuple1)\n",
    "\n",
    "tuplist = list(tuple1)\n",
    "tuplist.remove(35)\n",
    "\n",
    "tuple1 = tuple(tuplist)\n",
    "print(tuple1)\n"
   ]
  },
  {
   "cell_type": "markdown",
   "metadata": {},
   "source": [
    "**Extent** tuple (85,19)"
   ]
  },
  {
   "cell_type": "code",
   "execution_count": 30,
   "metadata": {},
   "outputs": [],
   "source": [
    "# CODE HERE"
   ]
  },
  {
   "cell_type": "code",
   "execution_count": 31,
   "metadata": {},
   "outputs": [
    {
     "name": "stdout",
     "output_type": "stream",
     "text": [
      "(31, 24, 85, 85, 19)\n"
     ]
    }
   ],
   "source": [
    "# tuplist.append(85)\n",
    "# tuplist.append(19)\n",
    "\n",
    "# tuple1 = tuple(tuplist)\n",
    "# print(tuple1)\n",
    "\n",
    "#     or\n",
    "tuple2=(85,19)\n",
    "tuple1 = tuple1+tuple2\n",
    "print(tuple1)"
   ]
  },
  {
   "cell_type": "markdown",
   "metadata": {},
   "source": [
    "### If the following string is given as input to the program:\n",
    "\n",
    "- '5 2 3 6 6 5'\n",
    "\n",
    "#### FInd the secong higest value from that"
   ]
  },
  {
   "cell_type": "code",
   "execution_count": 32,
   "metadata": {},
   "outputs": [
    {
     "name": "stdout",
     "output_type": "stream",
     "text": [
      "['2', '3', '5', '6']\n",
      "5\n"
     ]
    }
   ],
   "source": [
    "# CODE HERE\n",
    "\n",
    "str  = '5 2 3 6 6 5'\n",
    "strdemo = list(set(str.split()))\n",
    "strdemo.sort()\n",
    "\n",
    "print(strdemo)\n",
    "sl = len(strdemo)-2\n",
    "print(strdemo[sl])"
   ]
  },
  {
   "cell_type": "markdown",
   "metadata": {},
   "source": [
    "### By using list comprehension, please write a program to print the list after removing the 0th,4th,5th numbers in [12,24,35,70,88,120,155]."
   ]
  },
  {
   "cell_type": "code",
   "execution_count": 33,
   "metadata": {},
   "outputs": [
    {
     "name": "stdout",
     "output_type": "stream",
     "text": [
      "[12, 24, 35, 70, 88, 120, 155]\n",
      "After Removing 0th position No [24, 35, 70, 88, 120, 155]\n",
      "After Removing 4th position No [24, 35, 70, 120, 155]\n",
      "After Removing oth position No [24, 35, 70, 155]\n"
     ]
    }
   ],
   "source": [
    "# CODE HERE\n",
    "lstdemo = [12,24,35,70,88,120,155]\n",
    "print(lstdemo)\n",
    "lstdemo.pop(0)\n",
    "print(\"After Removing 0th position No\",lstdemo)\n",
    "lstdemo.pop(3)\n",
    "print(\"After Removing 4th position No\",lstdemo)\n",
    "lstdemo.pop(3)\n",
    "print(\"After Removing oth position No\",lstdemo)\n"
   ]
  },
  {
   "cell_type": "code",
   "execution_count": 34,
   "metadata": {},
   "outputs": [
    {
     "name": "stdout",
     "output_type": "stream",
     "text": [
      "[12, 24, 35, 70, 88, 120, 155]\n",
      "after removing element : [24, 35, 70, 155]\n"
     ]
    }
   ],
   "source": [
    "lstdemo = [12,24,35,70,88,120,155]\n",
    "print(lstdemo)\n",
    "\n",
    "lstdemo.pop(0)\n",
    "lstdemo.pop(3)\n",
    "lstdemo.pop(3)\n",
    "\n",
    "lstdemo1 = [i for i in lstdemo if i in lstdemo]\n",
    "print('after removing element :',lstdemo)"
   ]
  },
  {
   "cell_type": "markdown",
   "metadata": {},
   "source": [
    "**Write a Program to Create a List and Identify its unique and Duplicate Elements**"
   ]
  },
  {
   "cell_type": "code",
   "execution_count": 35,
   "metadata": {},
   "outputs": [
    {
     "name": "stdout",
     "output_type": "stream",
     "text": [
      "Unique Elements are : [1, 2, 3, 4, 5, 9]\n",
      "Duplicate Elements are : [2, 2, 4]\n"
     ]
    }
   ],
   "source": [
    "lst = [1,2,2,2,3,4,4,5,9]\n",
    "unique=[]\n",
    "duplicate=[]\n",
    "for i in lst:\n",
    "    if i not in unique:\n",
    "        unique.append(i)\n",
    "    else:\n",
    "        duplicate.append(i)\n",
    "        \n",
    "print(\"Unique Elements are :\",unique)\n",
    "print(\"Duplicate Elements are :\",duplicate)"
   ]
  },
  {
   "cell_type": "markdown",
   "metadata": {},
   "source": [
    "### With a given tuple (1,2,3,4,5,6,7,8,9,10), write a program to print the first half values in one line and the last half values in one line."
   ]
  },
  {
   "cell_type": "code",
   "execution_count": 36,
   "metadata": {},
   "outputs": [
    {
     "name": "stdout",
     "output_type": "stream",
     "text": [
      "(1, 2, 3, 4, 5) \n",
      " (6, 7, 8, 9, 10)\n"
     ]
    }
   ],
   "source": [
    "tupdemo = (1,2,3,4,5,6,7,8,9,10)\n",
    "l = len(tupdemo)//2\n",
    "\n",
    "print(tupdemo[:l],\"\\n\",tupdemo[-l:])\n",
    "   "
   ]
  },
  {
   "cell_type": "markdown",
   "metadata": {},
   "source": [
    "### Write a program to generate and print another tuple whose values are even numbers in the given tuple (1,2,3,4,5,6,7,8,9,10)"
   ]
  },
  {
   "cell_type": "code",
   "execution_count": 37,
   "metadata": {},
   "outputs": [
    {
     "name": "stdout",
     "output_type": "stream",
     "text": [
      "(2, 4, 6, 8, 10)\n"
     ]
    }
   ],
   "source": [
    "#method1\n",
    "demo = (1,2,3,4,5,6,7,8,9,10)\n",
    "demo1 = []\n",
    "for x in demo:\n",
    "    if x % 2 == 0:\n",
    "        demo1.append(x)\n",
    "\n",
    "demo = tuple(demo1)\n",
    "print(demo)"
   ]
  },
  {
   "cell_type": "code",
   "execution_count": 38,
   "metadata": {},
   "outputs": [
    {
     "name": "stdout",
     "output_type": "stream",
     "text": [
      "(2, 4, 6, 8, 10)\n"
     ]
    }
   ],
   "source": [
    "demo = (1,2,3,4,5,6,7,8,9,10)\n",
    "demolst = list(demo)\n",
    "print(tuple([i for i in demolst if i%2 == 0]))"
   ]
  },
  {
   "cell_type": "code",
   "execution_count": null,
   "metadata": {},
   "outputs": [],
   "source": []
  },
  {
   "cell_type": "code",
   "execution_count": null,
   "metadata": {},
   "outputs": [],
   "source": []
  },
  {
   "cell_type": "code",
   "execution_count": null,
   "metadata": {},
   "outputs": [],
   "source": []
  }
 ],
 "metadata": {
  "kernelspec": {
   "display_name": "Python 3",
   "language": "python",
   "name": "python3"
  },
  "language_info": {
   "codemirror_mode": {
    "name": "ipython",
    "version": 3
   },
   "file_extension": ".py",
   "mimetype": "text/x-python",
   "name": "python",
   "nbconvert_exporter": "python",
   "pygments_lexer": "ipython3",
   "version": "3.8.5"
  }
 },
 "nbformat": 4,
 "nbformat_minor": 2
}
